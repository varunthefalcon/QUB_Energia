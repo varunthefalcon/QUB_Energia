{
 "cells": [
  {
   "cell_type": "code",
   "execution_count": 4,
   "id": "9189ff79",
   "metadata": {},
   "outputs": [],
   "source": [
    "import pandas as pd\n",
    "import numpy as np\n",
    "import matplotlib.pyplot as plt\n",
    "import seaborn as sns # used for plot interactive graph. \n",
    "from sklearn.model_selection import train_test_split # to split the data into two parts\n",
    "from collections import Counter\n",
    "from sklearn.preprocessing import LabelEncoder\n",
    "\n",
    "from sklearn.linear_model import LogisticRegression # to apply the Logistic regression\n",
    "from sklearn.model_selection import RandomizedSearchCV  # Randomized search on hyper parameters.\n",
    "\n",
    "from sklearn.feature_selection import RFE\n",
    "from sklearn.preprocessing import MinMaxScaler, StandardScaler, MaxAbsScaler, RobustScaler\n",
    "from scipy.stats import boxcox\n",
    "from sklearn import metrics # for the check the error and accuracy of the model\n",
    "\n",
    "from sklearn.model_selection import cross_val_score\n",
    "from sklearn.metrics import classification_report\n",
    "from sklearn.metrics import confusion_matrix\n",
    "\n",
    "from sklearn.tree import DecisionTreeClassifier\n",
    "from sklearn.ensemble import RandomForestClassifier\n",
    "\n",
    "from imblearn.under_sampling import NearMiss\n",
    "from imblearn.over_sampling import SMOTE"
   ]
  },
  {
   "cell_type": "code",
   "execution_count": 5,
   "id": "a9b401d8",
   "metadata": {},
   "outputs": [],
   "source": [
    "#reading and concatinating customer data\n",
    "raw_1 = pd.read_excel('D:/UK/assignment/DSA8023/WB1_Energia_Challenge_March_2023_Data.xlsx', sheet_name=1)\n",
    "raw_2 = pd.read_excel('D:/UK/assignment/DSA8023/WB2_Energia_Challenge_March_2023_Data.xlsx', sheet_name=1)\n",
    "raw_d = pd.concat([raw_1, raw_2])"
   ]
  },
  {
   "cell_type": "code",
   "execution_count": 10,
   "id": "a9c97f3a",
   "metadata": {},
   "outputs": [
    {
     "name": "stdout",
     "output_type": "stream",
     "text": [
      "Index(['accountID', 'StartDate', 'ContractStartDateEV', 'contractStartDate',\n",
      "       'contractEndDate', 'saStatus', 'agedBand', 'signedUpGroup', 'title',\n",
      "       'mosaicType', 'EV', 'EV_New_or_Old', 'bill_1_2021', 'bill_2_2021',\n",
      "       'bill_3_2021', 'bill_4_2021', 'bill_5_2021', 'bill_6_2021',\n",
      "       'bill_1_2022', 'bill_2_2022', 'bill_3_2022', 'bill_4_2022',\n",
      "       'bill_5_2022', 'bill_6_2022', 'bill_1_2023'],\n",
      "      dtype='object')\n"
     ]
    }
   ],
   "source": [
    "# Defining constants\n",
    "\n",
    "df = raw_d.copy()\n",
    "\n",
    "billing_months = ['bill_1_2021', 'bill_2_2021',\n",
    "       'bill_3_2021', 'bill_4_2021', 'bill_5_2021', 'bill_6_2021',\n",
    "       'bill_1_2022', 'bill_2_2022', 'bill_3_2022', 'bill_4_2022',\n",
    "       'bill_5_2022', 'bill_6_2022', 'bill_1_2023']\n",
    "\n"
   ]
  },
  {
   "cell_type": "code",
   "execution_count": null,
   "id": "7dfb5b6c",
   "metadata": {},
   "outputs": [],
   "source": [
    "# initial data cleaning\n",
    "\n",
    "# based on the fact that ifn one reading is missed for a particular month, the reading will be accumulated to next month.\n",
    "# the reading is averaged between missing and accumulated months.\n",
    "# only one missed month is accepted thus eleminating rows with consecutive zeros\n",
    "# end result will have no zero readings\n",
    "def average_missing_months(x):\n",
    "    for index, month in enumerate(bill_months[:-1]):\n",
    "        next_month = bill_months[index+1]\n",
    "        if x[month] == 0:\n",
    "            if(x[next_month] != 0):\n",
    "                x[month] = x[next_month] / 2\n",
    "                x[next_month] = x[next_month] / 2\n",
    "            else:\n",
    "                break\n",
    "    return x"
   ]
  }
 ],
 "metadata": {
  "kernelspec": {
   "display_name": "Python 3 (ipykernel)",
   "language": "python",
   "name": "python3"
  },
  "language_info": {
   "codemirror_mode": {
    "name": "ipython",
    "version": 3
   },
   "file_extension": ".py",
   "mimetype": "text/x-python",
   "name": "python",
   "nbconvert_exporter": "python",
   "pygments_lexer": "ipython3",
   "version": "3.10.4"
  }
 },
 "nbformat": 4,
 "nbformat_minor": 5
}
