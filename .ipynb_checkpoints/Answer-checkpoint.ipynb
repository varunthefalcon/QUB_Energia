{
 "cells": [
  {
   "cell_type": "markdown",
   "id": "b50da92e",
   "metadata": {},
   "source": [
    "<br/>"
   ]
  },
  {
   "cell_type": "markdown",
   "id": "35dade44",
   "metadata": {},
   "source": [
    "## <center>DSA8023: Analytics in Action</center>\n",
    "<!-- ### <center>(Course Code: MGT7177) -->"
   ]
  },
  {
   "cell_type": "markdown",
   "id": "337483ac",
   "metadata": {},
   "source": [
    "<br/>"
   ]
  },
  {
   "cell_type": "markdown",
   "id": "a73607e3",
   "metadata": {},
   "source": [
    "<br/>"
   ]
  },
  {
   "cell_type": "markdown",
   "id": "7ab6a2f7",
   "metadata": {},
   "source": [
    "# <center>Analython 1 Project: <br/>Suspected EV Customers Challenge from Energia "
   ]
  },
  {
   "cell_type": "markdown",
   "id": "ff8df425",
   "metadata": {},
   "source": [
    "<br/>"
   ]
  },
  {
   "cell_type": "markdown",
   "id": "ae7b352e",
   "metadata": {},
   "source": [
    "<br/>"
   ]
  },
  {
   "cell_type": "markdown",
   "id": "bef2a6b3",
   "metadata": {},
   "source": [
    "#### <br/><p style=\"text-align: left; width: 50%; float: left\"> Varun Suresh Kumar <br/><br/> Student ID: 40364111 <br/><br/> vsureshkumar01@qub.ac.uk</p><p style=\"text-align: right; width: 50%; float: right\"> Submitted on: 18/14/2023 <br/><br/> Word Count: 200 <br/><br/> Maths and Physics department</p>"
   ]
  },
  {
   "cell_type": "markdown",
   "id": "e124369d",
   "metadata": {},
   "source": [
    "<hr/>"
   ]
  },
  {
   "cell_type": "markdown",
   "id": "95707167",
   "metadata": {},
   "source": [
    "## Abstract:\n",
    "\n",
    "\n",
    "scale: 50%\n",
    "align: right\n",
    "\n",
    "Here is my figure caption!\n",
    "```\n",
    "\n",
    "Research Objectives:\n",
    "\n",
    "This analysis aims at developing a mechanism to predict the credit card default beforehand and to identify the potential customer base that can be offered\n",
    "various credit instruments so as to invite minimum default"
   ]
  },
  {
   "cell_type": "code",
   "execution_count": 4,
   "id": "2e48484b",
   "metadata": {},
   "outputs": [
    {
     "data": {
      "text/plain": [
       "sklearn.exceptions.ConvergenceWarning('ignore')"
      ]
     },
     "execution_count": 4,
     "metadata": {},
     "output_type": "execute_result"
    }
   ],
   "source": [
    "import warnings\n",
    "warnings.filterwarnings(action='once')\n",
    "\n",
    "from sklearn.exceptions import ConvergenceWarning\n",
    "ConvergenceWarning('ignore')"
   ]
  },
  {
   "cell_type": "code",
   "execution_count": 5,
   "id": "be4e63e7",
   "metadata": {},
   "outputs": [],
   "source": [
    "import pandas as pd\n",
    "import numpy as np\n",
    "import matplotlib.pyplot as plt\n",
    "import seaborn as sns # used for plot interactive graph. \n",
    "from sklearn.model_selection import train_test_split # to split the data into two parts\n",
    "from collections import Counter\n",
    "from sklearn.preprocessing import LabelEncoder\n",
    "\n",
    "from sklearn.linear_model import LogisticRegression # to apply the Logistic regression\n",
    "from sklearn.model_selection import RandomizedSearchCV  # Randomized search on hyper parameters.\n",
    "\n",
    "from sklearn.feature_selection import RFE\n",
    "from sklearn.preprocessing import MinMaxScaler, StandardScaler, MaxAbsScaler, RobustScaler\n",
    "from scipy.stats import boxcox\n",
    "from sklearn import metrics # for the check the error and accuracy of the model\n",
    "\n",
    "from sklearn.model_selection import cross_val_score\n",
    "from sklearn.metrics import classification_report\n",
    "from sklearn.metrics import confusion_matrix\n",
    "\n",
    "from sklearn.tree import DecisionTreeClassifier\n",
    "from sklearn.ensemble import RandomForestClassifier\n",
    "from sklearn.svm import SVC\n",
    "\n",
    "from imblearn.under_sampling import NearMiss\n",
    "from imblearn.over_sampling import SMOTE"
   ]
  },
  {
   "cell_type": "code",
   "execution_count": 6,
   "id": "8064006c",
   "metadata": {},
   "outputs": [],
   "source": [
    "#reading and concatinating customer data\n",
    "\n",
    "raw_1 = pd.read_excel('D:/UK/assignment/DSA8023/WB1_Energia_Challenge_March_2023_Data.xlsx', sheet_name=1)\n",
    "raw_2 = pd.read_excel('D:/UK/assignment/DSA8023/WB2_Energia_Challenge_March_2023_Data.xlsx', sheet_name=1)\n",
    "raw_d = pd.concat([raw_1, raw_2])"
   ]
  },
  {
   "cell_type": "code",
   "execution_count": 7,
   "id": "26320dd1",
   "metadata": {},
   "outputs": [],
   "source": [
    "# Defining constants\n",
    "\n",
    "billing_months = ['bill_1_2021', 'bill_2_2021',\n",
    "       'bill_3_2021', 'bill_4_2021', 'bill_5_2021', 'bill_6_2021',\n",
    "       'bill_1_2022', 'bill_2_2022', 'bill_3_2022', 'bill_4_2022',\n",
    "       'bill_5_2022', 'bill_6_2022', 'bill_1_2023']\n",
    "\n",
    "categorical_columns = ['title', 'mosaicType', 'agedBand', 'saStatus', 'signedUpGroup']\n",
    "\n",
    "# based on the fact that ifn one reading is missed for a particular month, the reading will be accumulated to next month.\n",
    "# the reading is averaged between missing and accumulated months.\n",
    "# only one missed month is accepted thus eleminating rows with consecutive zeros\n",
    "# end result will have no zero readings\n",
    "def average_missing_months(x):\n",
    "    for index, month in enumerate(billing_months[:-1]):\n",
    "        next_month = billing_months[index+1]\n",
    "        if x[month] == 0:\n",
    "            if(x[next_month] != 0):\n",
    "                x[month] = x[next_month] / 2\n",
    "                x[next_month] = x[next_month] / 2\n",
    "            else:\n",
    "                break\n",
    "    return x\n",
    "\n",
    "def checkCateoricalInfo(data, cols):\n",
    "    for col in cols:\n",
    "        unique = data[col].unique()\n",
    "        print('{}({}) - {}'.format(col, len(unique), unique));\n",
    "        print()\n"
   ]
  },
  {
   "cell_type": "code",
   "execution_count": 8,
   "id": "8443f5f6",
   "metadata": {},
   "outputs": [
    {
     "name": "stdout",
     "output_type": "stream",
     "text": [
      "title(10) - ['Mr' 'Ms' 'Mrs' ' ' 'Miss' 'Dr' 'Mr & Mrs' nan 'Rev' 'Cllr']\n",
      "\n",
      "mosaicType(44) - [nan 'F17' 'G18' 'K31' 'M37' 'G19' 'N42' 'L33' 'B04' 'C09' 'M38' 'E14'\n",
      " 'B06' 'A03' 'J29' 'A02' 'C07' 'F15' 'N43' 'H22' 'K30' 'C08' 'J28' 'L35'\n",
      " 'E13' 'B05' 'J26' 'N40' 'A01' 'H23' 'K32' 'D10' 'N41' 'G20' 'I24' 'M39'\n",
      " 'F16' 'D11' 'J27' 'L34' 'H21' 'L36' 'I25' 'D12']\n",
      "\n",
      "agedBand(9) - ['41 to 50' 'Unclassified' '51 to 60' '61 to 70' '25 to 40' '70+'\n",
      " '19 to 24' nan '18 & Under']\n",
      "\n",
      "saStatus(1) - ['Active']\n",
      "\n",
      "signedUpGroup(6) - ['PCW' 'Telesales' 'Other' 'Web' 'Field Sales' 'OBS']\n",
      "\n"
     ]
    }
   ],
   "source": [
    "df = raw_d.copy()\n",
    "\n",
    "checkCateoricalInfo(df, categorical_columns)\n",
    "\n",
    "le = LabelEncoder()\n",
    " \n",
    "# keeping nan values in title, agedband as they have relatively less effect on EV classification\n",
    "df['title'] = le.fit_transform(df['title'])\n",
    "df['mosaicType'] = le.fit_transform(df['mosaicType'])\n",
    "df['agedBand'] = le.fit_transform(df['agedBand'])\n",
    "df['signedUpGroup'] = le.fit_transform(df['signedUpGroup'])\n",
    "df['saStatus'] = le.fit_transform(df['saStatus'])\n",
    "\n",
    "\n",
    "# manually assigning numeric values to EV related categories\n",
    "rename_props = { 'EV': {'N': 0, 'Y': 1},\n",
    "                  'EV_New_or_Old': {'Non-EV Customers': 0, 'Switched to EV': 1, 'New EV Customer': 1}} \n",
    "\n",
    "df = df.replace(rename_props)\n"
   ]
  },
  {
   "cell_type": "code",
   "execution_count": 9,
   "id": "9387d014",
   "metadata": {},
   "outputs": [],
   "source": [
    "def visualizeFeatureCount(dataset, feature = 'EV'):\n",
    "    totalData = len(dataset)\n",
    "    hasFeature = dataset[feature].sum()\n",
    "    \n",
    "#     print(totalData, has)\n",
    "    hasNoFeature = totalData - hasFeature\n",
    "\n",
    "    hasFeature_per = round(hasFeature/totalData * 100, 2)\n",
    "    hasNoFeature_per = round(hasNoFeature/totalData * 100, 2)\n",
    "\n",
    "    plt.figure()\n",
    "    sns.countplot(data = dataset, x=feature)\n",
    "    plt.annotate('No {}: {}'.format(feature, hasNoFeature), xy=(-0.3, 15000), xytext=(-0.3, 3000), size=12)\n",
    "    plt.annotate('{}: {}'.format(feature, hasFeature), xy=(0.7, 15000), xytext=(0.9, 3000), size=12)\n",
    "    plt.annotate(str(hasNoFeature_per)+\" %\", xy=(-0.3, 15000), xytext=(-0.1, 8000), size=12)\n",
    "    plt.annotate(str(hasFeature_per)+\" %\", xy=(0.7, 15000), xytext=(0.9, 8000), size=12)\n",
    "    plt.show()\n",
    "\n",
    "def plot_hist_plots(t_data, t_features, fig_size= 8):\n",
    "    f = plt.figure(figsize=(fig_size,fig_size))\n",
    "    for i, feature in enumerate(t_features):\n",
    "        t = f.add_subplot(round(len(t_features)/3) + 1,3, i+1)\n",
    "        sns.histplot(t_data[feature])\n",
    "        t.title.set_text(feature)\n",
    "    plt.show();\n",
    "\n",
    "def plot_corr_plot(ds):\n",
    "    corr = ds.corr(numeric_only=True) # .corr is used to find corelation\n",
    "    f,ax = plt.subplots(figsize=(8, 7))\n",
    "    sns.heatmap(corr, cbar = True,  square = True, annot = False, fmt= '.1f', \n",
    "                xticklabels= True, yticklabels= True\n",
    "                ,cmap=\"coolwarm\", linewidths=.5, ax=ax)\n",
    "    plt.title('CORRELATION MATRIX - HEATMAP', size=18);\n",
    "    \n",
    "def predict_and_visualize(model, class_col, dataset=None, class_col_predicted= 'EV_predicted'):\n",
    "    \n",
    "    if dataset is None:\n",
    "        x = df.copy()\n",
    "        \n",
    "    else:\n",
    "        x = dataset.copy()\n",
    "        \n",
    "    x= x.drop(columns=[class_col])\n",
    "    x[class_col_predicted] = model.predict(x)\n",
    "    visualizeFeatureCount(x, feature='EV_predicted')\n",
    "    \n"
   ]
  },
  {
   "cell_type": "code",
   "execution_count": 10,
   "id": "0e7ef5b0",
   "metadata": {},
   "outputs": [],
   "source": [
    "df = df.apply(average_missing_months, axis=1)"
   ]
  },
  {
   "cell_type": "code",
   "execution_count": 11,
   "id": "cd87f16d",
   "metadata": {},
   "outputs": [
    {
     "data": {
      "image/png": "[encoded data removed]",
      "text/plain": [
       "<Figure size 640x480 with 1 Axes>"
      ]
     },
     "metadata": {},
     "output_type": "display_data"
    }
   ],
   "source": [
    "\n",
    "# initial data cleaning\n",
    "\n",
    "# deleting date related \n",
    "cols_to_delete = ['StartDate','ContractStartDateEV','contractStartDate','contractEndDate','saStatus', 'accountID']\n",
    "if df.columns.isin(cols_to_delete).any():\n",
    "    df = df.drop(columns=cols_to_delete)\n",
    "\n",
    "def get_cleaned_data(df, is_zero_bill_value_allowed):\n",
    "    if is_zero_bill_value_allowed:\n",
    "        df['zero_count'] = df[billing_months].isin([0]).sum(axis=1)\n",
    "        cleaned_data = df.copy()\n",
    "    else:\n",
    "        cleaned_data = df[~df[billing_months].isin([0]).any(axis=1)]\n",
    "    \n",
    "    return cleaned_data\n",
    "cleaned_data = get_cleaned_data(df, is_zero_bill_value_allowed = False)\n",
    "\n",
    "\n",
    "visualizeFeatureCount(cleaned_data)    "
   ]
  },
  {
   "cell_type": "code",
   "execution_count": 12,
   "id": "bf4200aa",
   "metadata": {},
   "outputs": [],
   "source": [
    "# plot heat map of correlation features\n",
    "# plot_corr_plot(cleaned_data)"
   ]
  },
  {
   "cell_type": "code",
   "execution_count": 13,
   "id": "ca4fdc1e",
   "metadata": {},
   "outputs": [],
   "source": [
    "# check distribution of billing features before transforming\n",
    "# plot_hist_plots(cleaned_data, cleaned_data.columns, fig_size=12)\n"
   ]
  },
  {
   "cell_type": "code",
   "execution_count": 14,
   "id": "f6af6093",
   "metadata": {},
   "outputs": [],
   "source": [
    "# ignore - Applying log transformation to fix right skewness in billing period distribution\n",
    "# sqrt_t_data = cleaned_data.copy()\n",
    "\n",
    "# for month in billing_months:\n",
    "#     sqrt_t_data[month] = np.sqrt(sqrt_t_data[month])\n",
    "\n",
    "# plot_hist_plots(sqrt_t_data, billing_months)"
   ]
  },
  {
   "cell_type": "code",
   "execution_count": 15,
   "id": "c90aafa7",
   "metadata": {},
   "outputs": [],
   "source": [
    "# perform logistic regression\n",
    "\n",
    "from sklearn.utils._testing import ignore_warnings\n",
    "from sklearn.exceptions import ConvergenceWarning\n",
    "\n",
    "\n",
    "def perform_sampling(x_train, y_train, y_test, sampling=None):\n",
    "    if sampling:\n",
    "        print('Training set: {}'.format(Counter(y_train)))\n",
    "        print('Testing set: {}'.format(Counter(y_test)))\n",
    "\n",
    "        if sampling == 'under':\n",
    "            from imblearn.under_sampling import NearMiss \n",
    "            sampler = NearMiss(version=1, n_neighbors=3)\n",
    "        elif sampling == 'over':\n",
    "            from imblearn.over_sampling import SMOTE \n",
    "            sampler = SMOTE(random_state=42)\n",
    "\n",
    "        x_train, y_train = sampler.fit_resample(x_train, y_train)\n",
    "        print('Training set: {}'.format(Counter(y_train)))\n",
    "        print('Testing set: {}'.format(Counter(y_test)))\n",
    "    \n",
    "    return x_train, y_train\n",
    "\n",
    "@ignore_warnings(category=ConvergenceWarning)\n",
    "def perform_logistic_reg(data, class_col, sampling=None, solver='lbfgs'):\n",
    "    x = data.drop(class_col, axis=1)  \n",
    "    y = data[class_col]\n",
    "\n",
    "    X_train, X_test, y_train, y_test = train_test_split(x,y, test_size=0.20, stratify=y, random_state=42)\n",
    "    \n",
    "    if sampling:\n",
    "        X_train, y_train = perform_sampling(X_train, y_train,y_test,  sampling)\n",
    "\n",
    "    LR = LogisticRegression(C=0.00005, random_state=0, solver=solver)\n",
    "    LR.fit(X_train, y_train)\n",
    "    y_pred = LR.predict(X_test)\n",
    "    get_metrics(y_pred, X_test, y_test, LR, x, y, sampling, modal_name='Linear Regression')\n",
    "    return LR\n",
    "\n",
    "def get_metrics(y_pred, X_test, y_test, LR, x, y, sampling = None, modal_name = ''):\n",
    "    ## 5-fold cross-validation \n",
    "    cv_scores =cross_val_score(LR, x, y, cv=5)\n",
    "\n",
    "    # Print the 5-fold cross-validation scores\n",
    "    print()\n",
    "    print(classification_report(y_test, y_pred))\n",
    "    print()\n",
    "    print(\"Average 5-Fold CV Score: {}\".format(round(np.mean(cv_scores),4)),\n",
    "          \", Standard deviation: {}\".format(round(np.std(cv_scores),4)))\n",
    "\n",
    "    plt.figure(figsize=(4,3))\n",
    "    ConfMatrix = confusion_matrix(y_test,LR.predict(X_test))\n",
    "    sns.heatmap(ConfMatrix,annot=True, cmap=\"Blues\", fmt=\"d\", \n",
    "                xticklabels = ['No EV', 'EV'], \n",
    "                yticklabels = ['No EV', 'EV'])\n",
    "    plt.ylabel('True label')\n",
    "    plt.xlabel('Predicted label')\n",
    "    plt.title(\"Confusion Matrix - {} - {}\".format(modal_name, sampling));\n",
    "    \n",
    "    total1=sum(sum(ConfMatrix))\n",
    "    #####from confusion matrix calculate accuracy\n",
    "    \n",
    "    print('Accuracy:', metrics.accuracy_score(y_pred,y_test))\n",
    "    sensitivity = ConfMatrix[0,0]/(ConfMatrix[0,0]+ConfMatrix[0,1])\n",
    "    print('Sensitivity : ', sensitivity )\n",
    "    specificity = ConfMatrix[1,1]/(ConfMatrix[1,0]+ConfMatrix[1,1])\n",
    "    print('Specificity : ', specificity)"
   ]
  },
  {
   "cell_type": "code",
   "execution_count": null,
   "id": "36f544cd",
   "metadata": {},
   "outputs": [],
   "source": []
  },
  {
   "cell_type": "code",
   "execution_count": 16,
   "id": "310f9021",
   "metadata": {},
   "outputs": [
    {
     "name": "stdout",
     "output_type": "stream",
     "text": [
      "Training set: Counter({0: 77553, 1: 847})\n",
      "Testing set: Counter({0: 19389, 1: 212})\n",
      "Training set: Counter({0: 77553, 1: 77553})\n",
      "Testing set: Counter({0: 19389, 1: 212})\n",
      "\n",
      "              precision    recall  f1-score   support\n",
      "\n",
      "           0       1.00      0.81      0.90     19389\n",
      "           1       0.04      0.70      0.08       212\n",
      "\n",
      "    accuracy                           0.81     19601\n",
      "   macro avg       0.52      0.76      0.49     19601\n",
      "weighted avg       0.99      0.81      0.89     19601\n",
      "\n",
      "\n",
      "Average 5-Fold CV Score: 0.9888 , Standard deviation: 0.0\n",
      "Accuracy: 0.8133258507219019\n",
      "Sensitivity :  0.8145340141317242\n",
      "Specificity :  0.7028301886792453\n"
     ]
    },
    {
     "data": {
      "image/png": "[encoded data removed]",
      "text/plain": [
       "<Figure size 400x300 with 2 Axes>"
      ]
     },
     "metadata": {},
     "output_type": "display_data"
    },
    {
     "data": {
      "image/png": "[encoded data removed]",
      "text/plain": [
       "<Figure size 640x480 with 1 Axes>"
      ]
     },
     "metadata": {},
     "output_type": "display_data"
    }
   ],
   "source": [
    "LR2 = perform_logistic_reg(cleaned_data, class_col='EV', sampling='over')\n",
    "predict_and_visualize(LR2, 'EV', dataset=df)"
   ]
  },
  {
   "cell_type": "code",
   "execution_count": null,
   "id": "76fcdc53",
   "metadata": {},
   "outputs": [],
   "source": []
  },
  {
   "cell_type": "code",
   "execution_count": 17,
   "id": "09af9847",
   "metadata": {},
   "outputs": [],
   "source": [
    "# # anayzing with scaled data and perform LR\n",
    "# def scale_data_standard_scaler(data, feature_cols):\n",
    "#     scaled_data = data.copy()\n",
    "#     features = scaled_data[feature_cols]\n",
    "#     scaler = StandardScaler().fit(features.values)\n",
    "#     features = scaler.transform(features.values)\n",
    "#     scaled_data[feature_cols] = features\n",
    "#     return scaled_data\n",
    "\n",
    "# scaled_data = scale_data_standard_scaler(cleaned_data, billing_months)\n",
    "# LR4 = perform_logistic_reg(scaled_data, class_col='EV' )\n",
    "# predict_and_visualize(LR4,'EV', dataset=df)"
   ]
  },
  {
   "cell_type": "code",
   "execution_count": 18,
   "id": "39123423",
   "metadata": {},
   "outputs": [],
   "source": [
    "# Perform RFE and find important features \n",
    "\n",
    "# @ignore_warnings(category=ConvergenceWarning)\n",
    "# def perform_RFE(dataset, class_col='EV'):\n",
    "#     test_df_1 = dataset.copy()\n",
    "\n",
    "#     x = test_df_1.drop(class_col, axis=1)  \n",
    "#     y = test_df_1[class_col]\n",
    "\n",
    "#     model = LogisticRegression()\n",
    "#     rfe_stand = RFE(model, n_features_to_select = 9 )\n",
    "#     fit_stand = rfe_stand.fit(x, y)\n",
    "#     print(\"St Model Num Features:\", fit_stand.n_features_)\n",
    "#     #print(\"St Model Selected Features:\", fit_stand.support_)\n",
    "#     print(\"Std Model Feature Ranking:\", fit_stand.ranking_)\n",
    "#     # calculate the score for the selected features\n",
    "#     score_stand = rfe_stand.score(x,y)\n",
    "# #     print(\"Standardized Model Score with selected features is: %f (%f)\" % (score_stand.mean(), score_stand.std()))\n",
    "#     feature_names = np.array(x.columns)\n",
    "#     print('Most important features (RFE): %s'% feature_names[rfe_stand.support_])\n",
    "    \n",
    "#     return feature_names[rfe_stand.support_]"
   ]
  },
  {
   "cell_type": "code",
   "execution_count": 19,
   "id": "114b6da9",
   "metadata": {},
   "outputs": [],
   "source": [
    "## Analysing important features with RFE\n",
    "\n",
    "# RFE_data = cleaned_data.copy()\n",
    "# # RFE_data = scale_data_standard_scaler(RFE_data, billing_months)\n",
    "\n",
    "# imp_cols = perform_RFE(RFE_data)\n",
    "\n",
    "# imp_data = RFE_data[imp_cols]\n",
    "# imp_data['EV'] = cleaned_data['EV'].to_numpy()\n",
    "# imp_LR = perform_logistic_reg(imp_data, class_col='EV')\n",
    "# predict_and_visualize(imp_LR, 'EV', dataset = df[[imp_cols]])"
   ]
  },
  {
   "cell_type": "code",
   "execution_count": 20,
   "id": "550e8e58",
   "metadata": {},
   "outputs": [
    {
     "name": "stdout",
     "output_type": "stream",
     "text": [
      "Training set: Counter({0: 77553, 1: 847})\n",
      "Testing set: Counter({0: 19389, 1: 212})\n",
      "Training set: Counter({0: 847, 1: 847})\n",
      "Testing set: Counter({0: 19389, 1: 212})\n",
      "Tuned Decision Tree Parameters: {'min_samples_leaf': 2, 'max_features': 9, 'max_depth': 7, 'criterion': 'gini'}\n",
      "Accuracy: 0.7781745829294424\n",
      "\n",
      "              precision    recall  f1-score   support\n",
      "\n",
      "           0       1.00      0.78      0.87     19389\n",
      "           1       0.05      1.00      0.09       212\n",
      "\n",
      "    accuracy                           0.78     19601\n",
      "   macro avg       0.52      0.89      0.48     19601\n",
      "weighted avg       0.99      0.78      0.87     19601\n",
      "\n",
      "\n",
      "Average 5-Fold CV Score: 1.0 , Standard deviation: 0.0\n",
      "Accuracy: 0.7781745829294424\n",
      "Sensitivity :  0.7757491361081025\n",
      "Specificity :  1.0\n"
     ]
    },
    {
     "data": {
      "image/png": "[encoded data removed]",
      "text/plain": [
       "<Figure size 400x300 with 2 Axes>"
      ]
     },
     "metadata": {},
     "output_type": "display_data"
    },
    {
     "data": {
      "image/png": "[encoded data removed]",
      "text/plain": [
       "<Figure size 640x480 with 1 Axes>"
      ]
     },
     "metadata": {},
     "output_type": "display_data"
    }
   ],
   "source": [
    "## Analysing with Decision tree algorithm\n",
    "\n",
    "DT_data = cleaned_data.copy()\n",
    "\n",
    "# Setup the parameters and distributions to sample from: param_dist\n",
    "param_dist = {\"max_depth\": [1,2,3,4,5,6,7,8,9],\n",
    "              \"max_features\": [1,2,3,4,5,6,7,8,9],\n",
    "              \"min_samples_leaf\": [1,2,3,4,5,6,7,8,9],\n",
    "              \"criterion\": [\"gini\", \"entropy\"]}\n",
    "\n",
    "# Instantiate a Decision Tree classifier: tree\n",
    "tree = DecisionTreeClassifier()\n",
    "\n",
    "# Instantiate the RandomizedSearchCV object: tree_cv\n",
    "tree_cv = RandomizedSearchCV(tree, param_distributions=param_dist, cv=5, random_state=0)\n",
    "\n",
    "x = DT_data.drop('EV', axis=1)  \n",
    "y = DT_data['EV']\n",
    "\n",
    "X_train, X_test, y_train, y_test = train_test_split(x,y, test_size=0.20, stratify=y, random_state=42)\n",
    "    \n",
    "X_train, y_train = perform_sampling(X_train, y_train, y_test, sampling='under')\n",
    "\n",
    "# Fit it to the data\n",
    "tree_cv.fit(X_train, y_train)\n",
    "\n",
    "# Print the tuned parameters and score\n",
    "print(\"Tuned Decision Tree Parameters: {}\".format(tree_cv.best_params_))\n",
    "\n",
    "Tree = DecisionTreeClassifier(criterion= 'gini', max_depth= 8, \n",
    "                                     max_features= 4, min_samples_leaf= 6, \n",
    "                                     random_state=0)\n",
    "Tree.fit(X_train, y_train)\n",
    "y_pred = Tree.predict(X_test)\n",
    "print('Accuracy:', metrics.accuracy_score(y_pred,y_test))\n",
    "\n",
    "get_metrics(y_pred, X_test, y_test, Tree, x, y, modal_name='DecisionTree Classifier')\n",
    "predict_and_visualize(Tree ,  'EV', dataset=df[df.EV == 0])"
   ]
  },
  {
   "cell_type": "code",
   "execution_count": null,
   "id": "e0b59e9a",
   "metadata": {},
   "outputs": [],
   "source": []
  },
  {
   "cell_type": "code",
   "execution_count": null,
   "id": "9427fca0",
   "metadata": {},
   "outputs": [],
   "source": []
  },
  {
   "cell_type": "code",
   "execution_count": 21,
   "id": "5dc1cda5",
   "metadata": {},
   "outputs": [],
   "source": [
    "# # ## Random forest classification\n",
    "\n",
    "# RF_data = cleaned_data.copy()\n",
    "\n",
    "# param_dist = {'n_estimators': [50,100,150,200,250],\n",
    "#                \"max_features\": [1,2,3,4,5,6,7,8,9],\n",
    "#                'max_depth': [1,2,3,4,5,6,7,8,9],\n",
    "#                \"criterion\": [\"gini\", \"entropy\"]}\n",
    "\n",
    "# rf = RandomForestClassifier()\n",
    "\n",
    "# x = RF_data.drop('EV', axis=1)  \n",
    "# y = RF_data['EV']\n",
    "\n",
    "# X_train, X_test, y_train, y_test = train_test_split(x,y, test_size=0.20, stratify=y, random_state=42)\n",
    "\n",
    "# X_train, y_train = perform_sampling(X_train, y_train, y_test, sampling='under')\n",
    "\n",
    "# rf_cv = RandomizedSearchCV(rf, param_distributions = param_dist, \n",
    "#                            cv = 5, random_state=0, n_jobs = -1)\n",
    "\n",
    "# rf_cv.fit(x, y)\n",
    "\n",
    "# print(\"Tuned Random Forest Parameters: %s\" % (rf_cv.best_params_))\n",
    "\n",
    "\n",
    "# Ran = RandomForestClassifier(criterion= 'entropy', max_depth= 5, \n",
    "#                                      max_features= 6, n_estimators= 200, \n",
    "#                                      random_state=0)\n",
    "# Ran.fit(X_train, y_train)\n",
    "# y_pred = Ran.predict(X_test)\n",
    "# print('Accuracy:', metrics.accuracy_score(y_pred,y_test))\n",
    "\n",
    "# get_metrics(y_pred, X_test, y_test, Ran, x, y, modal_name=\"Random Forest\")\n"
   ]
  },
  {
   "cell_type": "code",
   "execution_count": null,
   "id": "e1c884fa",
   "metadata": {},
   "outputs": [],
   "source": []
  },
  {
   "cell_type": "code",
   "execution_count": null,
   "id": "b33d4185",
   "metadata": {},
   "outputs": [],
   "source": []
  },
  {
   "cell_type": "code",
   "execution_count": 22,
   "id": "71c93e7d",
   "metadata": {},
   "outputs": [],
   "source": [
    "# SVM_data = cleaned_data.copy()\n",
    "\n",
    "# x = SVM_data.drop('EV', axis=1)  \n",
    "# y = SVM_data['EV']\n",
    "\n",
    "# X_train, X_test, y_train, y_test = train_test_split(x, y, test_size=0.2, random_state=42)\n",
    "\n",
    "# X_train, y_train = perform_sampling(X_train, y_train, y_test, 'under')\n",
    "\n",
    "# SVM_Model = SVC(kernel='linear', C=1.0, class_weight='balanced')\n",
    "\n",
    "# SVM_Model.fit(X_train,y_train)\n",
    "\n",
    "# y_pred = SVM_Model.predict(X_test)\n",
    "# print('Accuracy:', metrics.accuracy_score(y_pred,y_test))\n",
    "\n",
    "# get_metrics(y_pred, X_test, y_test, SVM_Model, x, y, modal_name=\"SVM\")\n",
    "\n",
    "# print (f'Accuracy - : {SVM_Model.score(x,y):.3f}')\n"
   ]
  },
  {
   "cell_type": "code",
   "execution_count": null,
   "id": "ae3eca86",
   "metadata": {},
   "outputs": [],
   "source": []
  },
  {
   "cell_type": "code",
   "execution_count": null,
   "id": "cefd3f9b",
   "metadata": {},
   "outputs": [],
   "source": []
  },
  {
   "cell_type": "code",
   "execution_count": null,
   "id": "3a3db41d",
   "metadata": {},
   "outputs": [],
   "source": []
  },
  {
   "cell_type": "code",
   "execution_count": 23,
   "id": "a7c45e1f",
   "metadata": {},
   "outputs": [
    {
     "data": {
      "text/html": [
       "<script>\n",
       "show=true; \n",
       "function code_toggle() {\n",
       " if (show){\n",
       " $('div.input').hide();\n",
       " } else {\n",
       " $('div.input').show();\n",
       " }\n",
       " show = !show\n",
       "} \n",
       "$( document ).ready(code_toggle);\n",
       "</script>\n",
       "<form action=\"javascript:code_toggle()\"><input type=\"submit\" value=\"Toggle code blocks.\"></form>"
      ],
      "text/plain": [
       "<IPython.core.display.HTML object>"
      ]
     },
     "execution_count": 23,
     "metadata": {},
     "output_type": "execute_result"
    }
   ],
   "source": [
    "from IPython.display import HTML\n",
    "\n",
    "HTML('''<script>\n",
    "show=true; \n",
    "function code_toggle() {\n",
    " if (show){\n",
    " $('div.input').hide();\n",
    " } else {\n",
    " $('div.input').show();\n",
    " }\n",
    " show = !show\n",
    "} \n",
    "$( document ).ready(code_toggle);\n",
    "</script>\n",
    "<form action=\"javascript:code_toggle()\"><input type=\"submit\" value=\"Toggle code blocks.\"></form>''')"
   ]
  }
 ],
 "metadata": {
  "kernelspec": {
   "display_name": "Python 3 (ipykernel)",
   "language": "python",
   "name": "python3"
  },
  "language_info": {
   "codemirror_mode": {
    "name": "ipython",
    "version": 3
   },
   "file_extension": ".py",
   "mimetype": "text/x-python",
   "name": "python",
   "nbconvert_exporter": "python",
   "pygments_lexer": "ipython3",
   "version": "3.10.4"
  }
 },
 "nbformat": 4,
 "nbformat_minor": 5
}
