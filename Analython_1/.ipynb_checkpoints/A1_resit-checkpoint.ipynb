{
 "cells": [
  {
   "cell_type": "markdown",
   "id": "2c515df1",
   "metadata": {},
   "source": [
    "# <center>DSA8023 Analytathon 1: Report on predicting EV Customers from Energia's electricity consumption data  </center>\n",
    "### <center> Varun Suresh Kumar (40364111) <br/><br/> 31-05-2023</center>\n",
    "\n"
   ]
  },
  {
   "cell_type": "markdown",
   "id": "25af1511",
   "metadata": {},
   "source": [
    "## <a id='0' href=\"#0\">Table of Contents:</a>\n",
    "\n",
    "<a href=\"#intro\">1. Introduction</a><br/>\n",
    "<a href=\"#state\">2. Statement of the problem</a><br/>\n",
    "<a href=\"#obj\">3. Research Objective</a><br/>\n",
    "<a href=\"#overview\">4. Data Overview</a><br/> \n",
    "    &emsp;&emsp;<a href=\"#4_1\">4.1 Description of Variables </a><br/>\n",
    "    &emsp;&emsp;<a href=\"#4_2\">4.2 Exploratory Data Analysis</a><br/>\n",
    "    &emsp;&emsp;<a href=\"#4_3\">4.3 Measure of Association</a><br/>\n",
    "    &emsp;&emsp;<a href=\"#4_4\">4.4 Data wrangling</a><br/>\n",
    "<a href=\"#method\">5. Methodology</a><br/>\n",
    "<a href=\"#comparison\">6. Comparison of Modal performance</a><br/>\n",
    "<a href=\"#results\">7. Results and discussion</a><br/>\n",
    "<a href=\"#conclusion\">8. Conclusion</a><br/>\n",
    "<a href=\"#references\">9. References</a><br/>\n"
   ]
  },
  {
   "cell_type": "markdown",
   "id": "fc05c8a7",
   "metadata": {},
   "source": [
    "## <a id='intro' href=\"#intro\">Introduction</a>\n",
    "\n",
    "Electric or hybrid vehicles will account for 20% of all new passenger vehicle sales by 2022, with over 70,000 EVs on the road in Ireland (ROI). As of Q1 2023, the proportion of new passenger autos acquired is growing rapidly (Prendergast, 2023). Energia accounts for 10% of all electric vehicle users. Finding the remaining suspected EV users who are not enrolled in Energia's EV Tariff is a challenge. In the existing database, only over 2,400 consumers have been identified as the EV Tariff consumers, indicating a considerable untapped market potential. The research on customer’s preference to choose alternative energy suppliers and spreading awareness on the customer benefits of Energia's EV Tariff, is crucial for Energia's market share growth.\n",
    "\n",
    "Energia can construct prediction models using ML algorithms   that assess the likelihood of consumers acquiring an EV based on a variety of data points such as energy use trends, demographic information, and geographic location. These models can help Energia prioritise and target potential EV purchasers within its customer base who have not yet opted into the EV Tariff. By combining these ML predictions with additional sources of data, like vehicle registration databases and public charging station consumption data, Energia can improve the accuracy of identifying suspected EV customers.\n",
    "\n",
    "This report will employ a number of research methodologies and analytical techniques to uncover an untapped market of prospective EV purchasers in Ireland. We will get valuable insights into the qualities, behaviour, and preferences of the target audience by examining customer data, conducting surveys, and researching market trends. These insights will assist Energia in developing data-driven strategies to meet the specific demands of the undiscovered niche, matching its offers to consumer expectations, and positioning itself as a leading provider in the EV energy market. By bridging the gap between recognised EV consumers and the untapped sector, Energia can contribute to the long-term growth of the EV industry, reduce carbon emissions, and pave the way for a greener, more environmentally conscious future.\n"
   ]
  },
  {
   "cell_type": "markdown",
   "id": "0c84416e",
   "metadata": {},
   "source": [
    "## <a id='state' href=\"#state\">Statement of the problem:</a>\n",
    "Energia has the challenge of attracting and converting an underserved segment of Irish Electric Vehicle (EV) owners who have either chosen other suppliers or are ignorant of the benefits offered by Energia. Despite having attracted 10% of the targeted 70,000 EV clients, Energia's database only shows 2,400 EV Tariff users. The major goal is to break down this barrier by employing specialised approaches that successfully explain Energia's specific benefits, resulting in a greater adoption rate among the untapped EV owner market. Energia can strengthen its market position and become the preferred provider.\n"
   ]
  },
  {
   "cell_type": "markdown",
   "id": "d2f94274",
   "metadata": {},
   "source": [
    "## <a id='obj' href=\"#obj\">Research Objective:</a>\n",
    "\n",
    "The objective of this study is to find non-Electric Vehicle (EV) consumers who have comparable socio-demographic profiles and monthly payment habits to existing EV users. The goal is to enhance the chance of these non-EV consumers adopting EVs by targeting them with targeted marketing campaigns and personalised solutions. Ultimately, this project will broaden Energia's client base, encourage sustainable mobility alternatives, and help to shape a better future.\n"
   ]
  },
  {
   "cell_type": "markdown",
   "id": "1c6f0322",
   "metadata": {},
   "source": [
    "## <a id='overview' href=\"#overview\">Data overview:</a>\n",
    "\n",
    "The provided dataset contains **1,86,558 observations** and **25 variables** related to customer information and their bi-monthly billing data over a two years. \n",
    "\n",
    "The variables are accountID, StartDate, ContractStartDateEV, contractStartDate, contractEndDate, saStatus, agedBand, signedUpGroup, title, mosaicType, EV, EV_New_or_Old, bill_1_2021, bill_2_2021, bill_3_2021, bill_4_2021, bill_5_2021, bill_6_2021, bill_1_2022, bill_2_2022, bill_3_2022, bill_4_2022, bill_5_2022, bill_6_2022, bill_1_2023. The **EV** variable is the target label."
   ]
  },
  {
   "cell_type": "markdown",
   "id": "915e0b25",
   "metadata": {},
   "source": [
    "\n",
    "## <a id='4_1' href=\"#4_1\">Description of variables:</a>\n",
    "<!-- - ***accountID***\t\t\t: unique identifier for each account\n",
    "- ***startDate***\t\t\t: Start date of customer\n",
    "- ***ContractStartDateEV***\t: EV contract start date\n",
    "- ***ContractStartDate***\t: Energia contract start date\n",
    "- ***ContractEndDate***\t\t: Energia contract end date\n",
    "- ***saStatus***\t\t\t: Service status of customers\n",
    "- ***agedBand***\t\t\t: age band of customers\n",
    "- ***signedUpGroup***\t\t: customer’s channel of signup\n",
    "- ***title***\t\t\t\t: title of customer\n",
    "- ***mosaicType***\t\t\t: socio Economic class of customers\n",
    "- ***EV*** (target label) \t\t: Whether customer has EV or not\n",
    "- ***EV_New_or_Old***\t\t: Is EV vehicle new or old\n",
    "- ***Bill_1_2021*** to ***Bill_1_2023***\t: Bi-billing information of customer\n",
    " -->\n",
    "Table 1 shows the description of each variables with their missing values count and percentages. There are 13 billing variables *bill_1_2021* to *bill_1_2023* that represents the billing information of customers from January 2021 to January 2023. Based on the table below, *ContractStartDate* and *mosaicType* have a significant percentage of missing values in the dataset."
   ]
  },
  {
   "cell_type": "code",
   "execution_count": 80,
   "id": "febf64f6",
   "metadata": {},
   "outputs": [
    {
     "data": {
      "text/html": [
       "<style type=\"text/css\">\n",
       "#T_c23bc caption {\n",
       "  text-align: center;\n",
       "  color: black;\n",
       "}\n",
       "</style>\n",
       "<table id=\"T_c23bc\">\n",
       "  <caption>Table 1.1 Missing values in the dataset (excluding bills)</caption>\n",
       "  <thead>\n",
       "    <tr>\n",
       "      <th id=\"T_c23bc_level0_col0\" class=\"col_heading level0 col0\" >Variable</th>\n",
       "      <th id=\"T_c23bc_level0_col1\" class=\"col_heading level0 col1\" >Description</th>\n",
       "      <th id=\"T_c23bc_level0_col2\" class=\"col_heading level0 col2\" >No of Observations</th>\n",
       "      <th id=\"T_c23bc_level0_col3\" class=\"col_heading level0 col3\" >Missing data (count)</th>\n",
       "      <th id=\"T_c23bc_level0_col4\" class=\"col_heading level0 col4\" >Missing data (%)</th>\n",
       "    </tr>\n",
       "  </thead>\n",
       "  <tbody>\n",
       "    <tr>\n",
       "      <td id=\"T_c23bc_row0_col0\" class=\"data row0 col0\" >ContractStartDateEV</td>\n",
       "      <td id=\"T_c23bc_row0_col1\" class=\"data row0 col1\" >EV contract start date</td>\n",
       "      <td id=\"T_c23bc_row0_col2\" class=\"data row0 col2\" >2516</td>\n",
       "      <td id=\"T_c23bc_row0_col3\" class=\"data row0 col3\" >184042</td>\n",
       "      <td id=\"T_c23bc_row0_col4\" class=\"data row0 col4\" >98.650000</td>\n",
       "    </tr>\n",
       "    <tr>\n",
       "      <td id=\"T_c23bc_row1_col0\" class=\"data row1 col0\" >mosaicType</td>\n",
       "      <td id=\"T_c23bc_row1_col1\" class=\"data row1 col1\" >Socio Economic class of customers</td>\n",
       "      <td id=\"T_c23bc_row1_col2\" class=\"data row1 col2\" >144036</td>\n",
       "      <td id=\"T_c23bc_row1_col3\" class=\"data row1 col3\" >42522</td>\n",
       "      <td id=\"T_c23bc_row1_col4\" class=\"data row1 col4\" >22.790000</td>\n",
       "    </tr>\n",
       "    <tr>\n",
       "      <td id=\"T_c23bc_row2_col0\" class=\"data row2 col0\" >contractEndDate</td>\n",
       "      <td id=\"T_c23bc_row2_col1\" class=\"data row2 col1\" >Energia contract end date</td>\n",
       "      <td id=\"T_c23bc_row2_col2\" class=\"data row2 col2\" >185591</td>\n",
       "      <td id=\"T_c23bc_row2_col3\" class=\"data row2 col3\" >967</td>\n",
       "      <td id=\"T_c23bc_row2_col4\" class=\"data row2 col4\" >0.520000</td>\n",
       "    </tr>\n",
       "    <tr>\n",
       "      <td id=\"T_c23bc_row3_col0\" class=\"data row3 col0\" >contractStartDate</td>\n",
       "      <td id=\"T_c23bc_row3_col1\" class=\"data row3 col1\" >Energia contract start date</td>\n",
       "      <td id=\"T_c23bc_row3_col2\" class=\"data row3 col2\" >185981</td>\n",
       "      <td id=\"T_c23bc_row3_col3\" class=\"data row3 col3\" >577</td>\n",
       "      <td id=\"T_c23bc_row3_col4\" class=\"data row3 col4\" >0.310000</td>\n",
       "    </tr>\n",
       "    <tr>\n",
       "      <td id=\"T_c23bc_row4_col0\" class=\"data row4 col0\" >agedBand</td>\n",
       "      <td id=\"T_c23bc_row4_col1\" class=\"data row4 col1\" >Age band of customers</td>\n",
       "      <td id=\"T_c23bc_row4_col2\" class=\"data row4 col2\" >186552</td>\n",
       "      <td id=\"T_c23bc_row4_col3\" class=\"data row4 col3\" >6</td>\n",
       "      <td id=\"T_c23bc_row4_col4\" class=\"data row4 col4\" >0.000000</td>\n",
       "    </tr>\n",
       "    <tr>\n",
       "      <td id=\"T_c23bc_row5_col0\" class=\"data row5 col0\" >title</td>\n",
       "      <td id=\"T_c23bc_row5_col1\" class=\"data row5 col1\" >Title of the customer</td>\n",
       "      <td id=\"T_c23bc_row5_col2\" class=\"data row5 col2\" >186556</td>\n",
       "      <td id=\"T_c23bc_row5_col3\" class=\"data row5 col3\" >2</td>\n",
       "      <td id=\"T_c23bc_row5_col4\" class=\"data row5 col4\" >0.000000</td>\n",
       "    </tr>\n",
       "    <tr>\n",
       "      <td id=\"T_c23bc_row6_col0\" class=\"data row6 col0\" >accountID</td>\n",
       "      <td id=\"T_c23bc_row6_col1\" class=\"data row6 col1\" >Unique identifier for each account</td>\n",
       "      <td id=\"T_c23bc_row6_col2\" class=\"data row6 col2\" >186558</td>\n",
       "      <td id=\"T_c23bc_row6_col3\" class=\"data row6 col3\" >0</td>\n",
       "      <td id=\"T_c23bc_row6_col4\" class=\"data row6 col4\" >0.000000</td>\n",
       "    </tr>\n",
       "    <tr>\n",
       "      <td id=\"T_c23bc_row7_col0\" class=\"data row7 col0\" >StartDate</td>\n",
       "      <td id=\"T_c23bc_row7_col1\" class=\"data row7 col1\" >Start date of customer</td>\n",
       "      <td id=\"T_c23bc_row7_col2\" class=\"data row7 col2\" >186558</td>\n",
       "      <td id=\"T_c23bc_row7_col3\" class=\"data row7 col3\" >0</td>\n",
       "      <td id=\"T_c23bc_row7_col4\" class=\"data row7 col4\" >0.000000</td>\n",
       "    </tr>\n",
       "    <tr>\n",
       "      <td id=\"T_c23bc_row8_col0\" class=\"data row8 col0\" >saStatus</td>\n",
       "      <td id=\"T_c23bc_row8_col1\" class=\"data row8 col1\" >Service status of customers</td>\n",
       "      <td id=\"T_c23bc_row8_col2\" class=\"data row8 col2\" >186558</td>\n",
       "      <td id=\"T_c23bc_row8_col3\" class=\"data row8 col3\" >0</td>\n",
       "      <td id=\"T_c23bc_row8_col4\" class=\"data row8 col4\" >0.000000</td>\n",
       "    </tr>\n",
       "    <tr>\n",
       "      <td id=\"T_c23bc_row9_col0\" class=\"data row9 col0\" >signedUpGroup</td>\n",
       "      <td id=\"T_c23bc_row9_col1\" class=\"data row9 col1\" >Customer’s channel of signup</td>\n",
       "      <td id=\"T_c23bc_row9_col2\" class=\"data row9 col2\" >186558</td>\n",
       "      <td id=\"T_c23bc_row9_col3\" class=\"data row9 col3\" >0</td>\n",
       "      <td id=\"T_c23bc_row9_col4\" class=\"data row9 col4\" >0.000000</td>\n",
       "    </tr>\n",
       "    <tr>\n",
       "      <td id=\"T_c23bc_row10_col0\" class=\"data row10 col0\" >EV</td>\n",
       "      <td id=\"T_c23bc_row10_col1\" class=\"data row10 col1\" >Whether customer has EV or not</td>\n",
       "      <td id=\"T_c23bc_row10_col2\" class=\"data row10 col2\" >186558</td>\n",
       "      <td id=\"T_c23bc_row10_col3\" class=\"data row10 col3\" >0</td>\n",
       "      <td id=\"T_c23bc_row10_col4\" class=\"data row10 col4\" >0.000000</td>\n",
       "    </tr>\n",
       "    <tr>\n",
       "      <td id=\"T_c23bc_row11_col0\" class=\"data row11 col0\" >EV_New_or_Old</td>\n",
       "      <td id=\"T_c23bc_row11_col1\" class=\"data row11 col1\" >Is EV vehicle new or old</td>\n",
       "      <td id=\"T_c23bc_row11_col2\" class=\"data row11 col2\" >186558</td>\n",
       "      <td id=\"T_c23bc_row11_col3\" class=\"data row11 col3\" >0</td>\n",
       "      <td id=\"T_c23bc_row11_col4\" class=\"data row11 col4\" >0.000000</td>\n",
       "    </tr>\n",
       "  </tbody>\n",
       "</table>\n"
      ],
      "text/plain": [
       "<pandas.io.formats.style.Styler at 0x2d7417f4fa0>"
      ]
     },
     "execution_count": 80,
     "metadata": {},
     "output_type": "execute_result"
    }
   ],
   "source": [
    "table_styles = [dict(selector=\"caption\",\n",
    "                       props=[(\"text-align\", \"center\"),\n",
    "                              (\"color\", 'black')])]\n",
    "\n",
    "col_desc = [\"Unique identifier for each account\",\n",
    "\"Start date of customer\",\n",
    "\"EV contract start date\",\n",
    "\"Energia contract start date\",\n",
    "\"Energia contract end date\",\n",
    "\"Service status of customers\",\n",
    "\"Age band of customers\",\n",
    "\"Customer’s channel of signup\",\n",
    "\"Title of the customer\",\n",
    "\"Socio Economic class of customers\",\n",
    "\"Whether customer has EV or not\",\n",
    "\"Is EV vehicle new or old\"]\n",
    "\n",
    "temp1 = raw_d[['accountID', 'StartDate', 'ContractStartDateEV', 'contractStartDate',\n",
    "       'contractEndDate', 'saStatus', 'agedBand', 'signedUpGroup', 'title',\n",
    "       'mosaicType', 'EV', 'EV_New_or_Old']]\n",
    "\n",
    "temp = pd.DataFrame({'Variable': temp1.count().index, 'Description': col_desc, 'No of Observations': temp1.count()})\n",
    "\n",
    "# temp = temp.set_index('Variable')\n",
    "\n",
    "temp['Missing data (count)'] = len(raw_d)  -  temp['No of Observations'] \n",
    "\n",
    "temp['Missing data (%)'] = round((len(raw_d)  -  temp['No of Observations'])*100 / len(raw_d), 2)\n",
    "\n",
    "temp.sort_values(by=\"Missing data (count)\", ascending=False).style.set_caption('Table 1.1 Missing values in the dataset (excluding bills)').set_table_styles(styles).hide(axis=\"index\")"
   ]
  },
  {
   "cell_type": "code",
   "execution_count": 81,
   "id": "7b88ff62",
   "metadata": {},
   "outputs": [
    {
     "data": {
      "image/png": "[encoded data removed]",
      "text/plain": [
       "<Figure size 400x300 with 1 Axes>"
      ]
     },
     "metadata": {},
     "output_type": "display_data"
    }
   ],
   "source": [
    "temp1 = raw_d[['bill_1_2021', 'bill_2_2021',\n",
    "       'bill_3_2021', 'bill_4_2021', 'bill_5_2021', 'bill_6_2021',\n",
    "       'bill_1_2022', 'bill_2_2022', 'bill_3_2022', 'bill_4_2022',\n",
    "       'bill_5_2022', 'bill_6_2022', 'bill_1_2023']]\n",
    "\n",
    "missing_values = temp1.isin([0]).sum()\n",
    "\n",
    "\n",
    "# Plotting the missing values\n",
    "plt.figure(figsize=(4, 3))\n",
    "missing_values.plot(kind='bar')\n",
    "plt.title('Missing Values')\n",
    "plt.xlabel('Columns')\n",
    "plt.ylabel('Count')\n",
    "plt.xticks(rotation=45)\n",
    "plt.show()"
   ]
  },
  {
   "cell_type": "code",
   "execution_count": 12,
   "id": "72876b37",
   "metadata": {},
   "outputs": [],
   "source": [
    "# helper functions\n",
    "\n",
    "def visualizeFeatureCount(dataset, feature = 'EV', sizeX = 7, sizeY =7):\n",
    "    totalData = len(dataset)\n",
    "    hasFeature = dataset[feature].sum()\n",
    "    hasNoFeature = totalData - hasFeature\n",
    "\n",
    "    hasFeature_per = round(hasFeature/totalData * 100, 2)\n",
    "    hasNoFeature_per = round(hasNoFeature/totalData * 100, 2)\n",
    "\n",
    "    plt.figure(figsize=(sizeX,sizeY))\n",
    "    sns.countplot(data = dataset, x=feature)\n",
    "    plt.annotate('No {}: {}'.format(feature, hasNoFeature), xy=(-0.3, 15000), xytext=(-0.3, 3000), size=12)\n",
    "    plt.annotate('{}: {}'.format(feature, hasFeature), xy=(0.7, 15000), xytext=(0.9, 3000), size=12)\n",
    "    plt.annotate(str(hasNoFeature_per)+\" %\", xy=(-0.3, 15000), xytext=(-0.1, 20000), size=12)\n",
    "    plt.annotate(str(hasFeature_per)+\" %\", xy=(0.7, 15000), xytext=(0.9, 20000), size=12)\n",
    "    plt.show()"
   ]
  },
  {
   "cell_type": "markdown",
   "id": "14ff576b",
   "metadata": {},
   "source": [
    "## <a id='references' href=\"#references\">References:</a>\n",
    "\n",
    "- Shane Prendergast, Direction of Travel - the growing EV markets in Ireland (26 April 2023) https://www.seai.ie/blog/ev-direction-of-travel/ [accessed 26 May 2023].\n",
    "\n",
    "\n"
   ]
  },
  {
   "cell_type": "code",
   "execution_count": 22,
   "id": "84b1b63e",
   "metadata": {},
   "outputs": [
    {
     "data": {
      "text/html": [
       "<script>\n",
       "show=true; \n",
       "$('a').css({\"text-decoration\": \"none\"})\n",
       "$('h2').css({\"margin\": '5px'})\n",
       "\n",
       "function code_toggle() {\n",
       " if (show){\n",
       " $('div.input').hide();\n",
       " } else {\n",
       " $('div.input').show();\n",
       " }\n",
       " show = !show\n",
       "} \n",
       "$( document ).ready(code_toggle);\n",
       "</script>\n",
       "<form action=\"javascript:code_toggle()\"><input type=\"submit\" value=\"Toggle code blocks.\"></form>"
      ],
      "text/plain": [
       "<IPython.core.display.HTML object>"
      ]
     },
     "execution_count": 22,
     "metadata": {},
     "output_type": "execute_result"
    }
   ],
   "source": [
    "\n",
    "from IPython.display import HTML\n",
    "\n",
    "HTML('''<script>\n",
    "show=true; \n",
    "$('a').css({\"text-decoration\": \"none\"})\n",
    "$('h2').css({\"margin\": '5px'})\n",
    "\n",
    "function code_toggle() {\n",
    " if (show){\n",
    " $('div.input').hide();\n",
    " } else {\n",
    " $('div.input').show();\n",
    " }\n",
    " show = !show\n",
    "} \n",
    "$( document ).ready(code_toggle);\n",
    "</script>\n",
    "<form action=\"javascript:code_toggle()\"><input type=\"submit\" value=\"Toggle code blocks.\"></form>''')"
   ]
  }
 ],
 "metadata": {
  "kernelspec": {
   "display_name": "Python 3 (ipykernel)",
   "language": "python",
   "name": "python3"
  },
  "language_info": {
   "codemirror_mode": {
    "name": "ipython",
    "version": 3
   },
   "file_extension": ".py",
   "mimetype": "text/x-python",
   "name": "python",
   "nbconvert_exporter": "python",
   "pygments_lexer": "ipython3",
   "version": "3.10.4"
  }
 },
 "nbformat": 4,
 "nbformat_minor": 5
}
