{
 "cells": [
  {
   "cell_type": "markdown",
   "id": "9a894d12",
   "metadata": {},
   "source": [
    "<br/>"
   ]
  },
  {
   "cell_type": "markdown",
   "id": "0e02b9a6",
   "metadata": {},
   "source": [
    "# <center> School of Mathematics and Physics </center>"
   ]
  },
  {
   "cell_type": "markdown",
   "id": "024cd031",
   "metadata": {},
   "source": [
    "# <center>    DSA8023: Analytics in Action\n",
    "<br/>\n",
    "</center>"
   ]
  },
  {
   "cell_type": "markdown",
   "id": "b2f14af5",
   "metadata": {},
   "source": [
    "<br/><br/><br/><br/><br/><br/><br/><br/><br/>"
   ]
  },
  {
   "cell_type": "markdown",
   "id": "3ff57258",
   "metadata": {},
   "source": [
    "# <center>Analython 1 Project: <br/><br/>Suspected EV Customers Challenge from Energia </center>\n",
    "\n"
   ]
  },
  {
   "cell_type": "markdown",
   "id": "7b37e56f",
   "metadata": {},
   "source": [
    "<br/><br/><br/><br/><br/><br/><br/><br/>"
   ]
  },
  {
   "cell_type": "markdown",
   "id": "e400bdc1",
   "metadata": {},
   "source": [
    "### <p style=\"text-align: left; width: 50%; float: left\"> <br/> Varun Suresh Kumar <br/><br/> Student ID: 40364111 <br/><br/> vsureshkumar01@qub.ac.uk</p><p style=\"text-align: right; width: 50%; float: right\">  <br/><br/> Submitted on: 18/14/2023 <br/><br/> Page Count: 9 </p>\n"
   ]
  },
  {
   "cell_type": "markdown",
   "id": "51947610",
   "metadata": {},
   "source": [
    "<br/>"
   ]
  },
  {
   "cell_type": "markdown",
   "id": "84d26dac",
   "metadata": {},
   "source": [
    "## Table of Contents:\n",
    "\n",
    "1. Introduction and Background</a>\n",
    "2. Research Objective</a>\n",
    "3. Exploratory Data Analysis (EDA)</a>\n",
    "    <br/>3.1 Glimpse of Data</a>\n",
    "    <br/>3.2 Descriptive Statistics</a>\n",
    "    <br/>3.3 Categorizing target class</a>\n",
    "    <br/>3.4 Distribution and plotting features</a>\n",
    "    <br/>3.5 Correlation</a>\n",
    "4. Methodology</a>\n",
    "5. Comparison of model performance</a>\n",
    "6. Conclusion</a>\n",
    "    "
   ]
  },
  {
   "cell_type": "markdown",
   "id": "d115b070",
   "metadata": {},
   "source": [
    "\n",
    "## 1. Introduction and Background\n",
    "\n",
    "Based on market research, Ireland (ROI) has 70,000 Electric Vehicle(EV) Customers who own an EV; out of which Energia has 10% of the market share. Around 2.4K EV Customers are identified from Energia database as they are part of the EV Tariff. \n",
    "This analysis is target towards identifying the remaining share of EV Customers using the bimonthly electrical billing data of customers from January 2021 to January 2023.\n",
    "\n",
    "This dataset consists of information on their account IDs, customers start date, their EV contract start and end dates, their title, EV contract type(New or Old), age band, channel through which they signedup and Geo-financial classification.\n",
    "\n",
    "The following report will consist of Exploratory Data Analysis of the dataset, steps involved in cleaning / classification of the data, the analysis of the data against Logistic Regression modal(3 variants), Decision Tree algorithm modal and finally the recommendations and conclusions inferred from the analysis. This analysis is performed in Python language using sklearn library. "
   ]
  },
  {
   "cell_type": "markdown",
   "id": "f0f22429",
   "metadata": {},
   "source": [
    "## 2. Research Objective:\n",
    "This analysis aims at developing a statistical modal to predict and classify the customers whether they use a EV vehicles or not.\n"
   ]
  },
  {
   "cell_type": "markdown",
   "id": "f9274a73",
   "metadata": {},
   "source": [
    "<a id='eda'></a>\n",
    "## 3. Exploratory Data Analysis (EDA)\n"
   ]
  },
  {
   "cell_type": "markdown",
   "id": "f2ecd4a1",
   "metadata": {},
   "source": [
    "<a id='31'></a>\n",
    "### 3.1 Glimpse of Data  \n",
    "\n",
    "<a id='31'></a>\n",
    "### Check the data  \n"
   ]
  },
  {
   "cell_type": "code",
   "execution_count": 49,
   "id": "155b2aa3",
   "metadata": {},
   "outputs": [
    {
     "name": "stdout",
     "output_type": "stream",
     "text": [
      "Shape of the dataset is (186558, 25)\n"
     ]
    }
   ],
   "source": [
    "# #reading and concatinating customer data\n",
    "\n",
    "raw_1 = pd.read_excel('D:/UK/assignment/DSA8023/WB1_Energia_Challenge_March_2023_Data.xlsx', sheet_name=1)\n",
    "raw_2 = pd.read_excel('D:/UK/assignment/DSA8023/WB2_Energia_Challenge_March_2023_Data.xlsx', sheet_name=1)\n",
    "raw_d = pd.concat([raw_1, raw_2])\n",
    "\n",
    "print('Shape of the dataset is {}'.format(raw_d.shape))"
   ]
  },
  {
   "cell_type": "markdown",
   "id": "a6e062bd",
   "metadata": {},
   "source": [
    "**Features present in the dataset:**"
   ]
  },
  {
   "cell_type": "code",
   "execution_count": 530,
   "id": "a71d4ee5",
   "metadata": {},
   "outputs": [],
   "source": [
    "print('Features present in the dataset:')\n",
    "',   '.join(raw_d.columns.to_list())"
   ]
  },
  {
   "cell_type": "code",
   "execution_count": 539,
   "id": "e5b1fb73",
   "metadata": {},
   "outputs": [
    {
     "name": "stdout",
     "output_type": "stream",
     "text": [
      "Categorical information present in the dataset:\n"
     ]
    },
    {
     "data": {
      "text/plain": [
       "'saStatus,   agedBand,   signedUpGroup,   title,   mosaicType,   EV,   EV_New_or_Old'"
      ]
     },
     "execution_count": 539,
     "metadata": {},
     "output_type": "execute_result"
    }
   ],
   "source": [
    "print('Categorical information present in the dataset:')\n",
    "\n",
    "categorical = ['saStatus',   'agedBand',   'signedUpGroup',   'title',   'mosaicType',   'EV',   'EV_New_or_Old' ]\n",
    "',   '.join(categorical)\n"
   ]
  },
  {
   "cell_type": "code",
   "execution_count": 540,
   "id": "f7da690f",
   "metadata": {},
   "outputs": [
    {
     "name": "stdout",
     "output_type": "stream",
     "text": [
      "Categorical information present in the dataset:\n"
     ]
    },
    {
     "data": {
      "text/plain": [
       "'bill_1_2021, bill_2_2021, bill_3_2021, bill_4_2021, bill_5_2021, bill_6_2021, bill_1_2022, bill_2_2022, bill_3_2022, bill_4_2022, bill_5_2022, bill_6_2022, bill_1_2023'"
      ]
     },
     "execution_count": 540,
     "metadata": {},
     "output_type": "execute_result"
    }
   ],
   "source": [
    "billing_months = ['bill_1_2021', 'bill_2_2021',\n",
    "       'bill_3_2021', 'bill_4_2021', 'bill_5_2021', 'bill_6_2021',\n",
    "       'bill_1_2022', 'bill_2_2022', 'bill_3_2022', 'bill_4_2022',\n",
    "       'bill_5_2022', 'bill_6_2022', 'bill_1_2023']\n",
    "\n",
    "print('Categorical information present in the dataset:')\n",
    "', '.join(billing_months)"
   ]
  },
  {
   "cell_type": "markdown",
   "id": "0d150802",
   "metadata": {},
   "source": [
    "**Unique Values in categorical features**"
   ]
  },
  {
   "cell_type": "code",
   "execution_count": 31,
   "id": "b17e5756",
   "metadata": {},
   "outputs": [
    {
     "name": "stdout",
     "output_type": "stream",
     "text": [
      "title(10) - ['Mr' 'Ms' 'Mrs' ' ' 'Miss' 'Dr' 'Mr & Mrs' nan 'Rev' 'Cllr']\n",
      "\n",
      "mosaicType(44) - [nan 'F17' 'G18' 'K31' 'M37' 'G19' 'N42' 'L33' 'B04' 'C09' 'M38' 'E14'\n",
      " 'B06' 'A03' 'J29' 'A02' 'C07' 'F15' 'N43' 'H22' 'K30' 'C08' 'J28' 'L35'\n",
      " 'E13' 'B05' 'J26' 'N40' 'A01' 'H23' 'K32' 'D10' 'N41' 'G20' 'I24' 'M39'\n",
      " 'F16' 'D11' 'J27' 'L34' 'H21' 'L36' 'I25' 'D12']\n",
      "\n",
      "agedBand(9) - ['41 to 50' 'Unclassified' '51 to 60' '61 to 70' '25 to 40' '70+'\n",
      " '19 to 24' nan '18 & Under']\n",
      "\n",
      "saStatus(1) - ['Active']\n",
      "\n",
      "signedUpGroup(6) - ['PCW' 'Telesales' 'Other' 'Web' 'Field Sales' 'OBS']\n",
      "\n"
     ]
    }
   ],
   "source": [
    "def checkCateoricalInfo(data, cols):\n",
    "    for col in cols:\n",
    "        unique = data[col].unique()\n",
    "        print('{}({}) - {}'.format(col, len(unique), unique));\n",
    "        print()\n",
    "\n",
    "checkCateoricalInfo(raw_d, categorical_columns)"
   ]
  },
  {
   "cell_type": "markdown",
   "id": "86e1651a",
   "metadata": {},
   "source": [
    "### 3.2 Descriptive Statistics"
   ]
  },
  {
   "cell_type": "code",
   "execution_count": 101,
   "id": "f44c9138",
   "metadata": {},
   "outputs": [
    {
     "data": {
      "text/html": [
       "<div>\n",
       "<style scoped>\n",
       "    .dataframe tbody tr th:only-of-type {\n",
       "        vertical-align: middle;\n",
       "    }\n",
       "\n",
       "    .dataframe tbody tr th {\n",
       "        vertical-align: top;\n",
       "    }\n",
       "\n",
       "    .dataframe thead th {\n",
       "        text-align: right;\n",
       "    }\n",
       "</style>\n",
       "<table border=\"1\" class=\"dataframe\">\n",
       "  <thead>\n",
       "    <tr style=\"text-align: right;\">\n",
       "      <th></th>\n",
       "      <th>count</th>\n",
       "      <th>mean</th>\n",
       "      <th>std</th>\n",
       "      <th>min</th>\n",
       "      <th>25%</th>\n",
       "      <th>50%</th>\n",
       "      <th>75%</th>\n",
       "      <th>max</th>\n",
       "    </tr>\n",
       "  </thead>\n",
       "  <tbody>\n",
       "    <tr>\n",
       "      <th>accountID</th>\n",
       "      <td>186558.0</td>\n",
       "      <td>93278.500000</td>\n",
       "      <td>53854.800097</td>\n",
       "      <td>0.0</td>\n",
       "      <td>46639.25</td>\n",
       "      <td>93278.5</td>\n",
       "      <td>139917.75</td>\n",
       "      <td>186557.0</td>\n",
       "    </tr>\n",
       "    <tr>\n",
       "      <th>bill_1_2021</th>\n",
       "      <td>186558.0</td>\n",
       "      <td>466.917100</td>\n",
       "      <td>718.094048</td>\n",
       "      <td>0.0</td>\n",
       "      <td>0.00</td>\n",
       "      <td>0.0</td>\n",
       "      <td>806.00</td>\n",
       "      <td>8914.0</td>\n",
       "    </tr>\n",
       "    <tr>\n",
       "      <th>bill_2_2021</th>\n",
       "      <td>186558.0</td>\n",
       "      <td>562.115112</td>\n",
       "      <td>808.298450</td>\n",
       "      <td>0.0</td>\n",
       "      <td>0.00</td>\n",
       "      <td>221.0</td>\n",
       "      <td>876.00</td>\n",
       "      <td>9599.0</td>\n",
       "    </tr>\n",
       "    <tr>\n",
       "      <th>bill_3_2021</th>\n",
       "      <td>186558.0</td>\n",
       "      <td>513.730224</td>\n",
       "      <td>667.484855</td>\n",
       "      <td>0.0</td>\n",
       "      <td>0.00</td>\n",
       "      <td>350.0</td>\n",
       "      <td>817.00</td>\n",
       "      <td>9191.0</td>\n",
       "    </tr>\n",
       "    <tr>\n",
       "      <th>bill_4_2021</th>\n",
       "      <td>186558.0</td>\n",
       "      <td>466.354419</td>\n",
       "      <td>562.397514</td>\n",
       "      <td>0.0</td>\n",
       "      <td>0.00</td>\n",
       "      <td>374.0</td>\n",
       "      <td>732.00</td>\n",
       "      <td>9654.0</td>\n",
       "    </tr>\n",
       "    <tr>\n",
       "      <th>bill_5_2021</th>\n",
       "      <td>186558.0</td>\n",
       "      <td>463.413131</td>\n",
       "      <td>534.612340</td>\n",
       "      <td>0.0</td>\n",
       "      <td>0.00</td>\n",
       "      <td>387.0</td>\n",
       "      <td>721.00</td>\n",
       "      <td>9499.0</td>\n",
       "    </tr>\n",
       "    <tr>\n",
       "      <th>bill_6_2021</th>\n",
       "      <td>186558.0</td>\n",
       "      <td>577.303464</td>\n",
       "      <td>635.093880</td>\n",
       "      <td>0.0</td>\n",
       "      <td>0.00</td>\n",
       "      <td>488.0</td>\n",
       "      <td>872.00</td>\n",
       "      <td>8376.0</td>\n",
       "    </tr>\n",
       "    <tr>\n",
       "      <th>bill_1_2022</th>\n",
       "      <td>186558.0</td>\n",
       "      <td>725.422035</td>\n",
       "      <td>786.465344</td>\n",
       "      <td>0.0</td>\n",
       "      <td>0.00</td>\n",
       "      <td>596.0</td>\n",
       "      <td>1068.00</td>\n",
       "      <td>9361.0</td>\n",
       "    </tr>\n",
       "    <tr>\n",
       "      <th>bill_2_2022</th>\n",
       "      <td>186558.0</td>\n",
       "      <td>677.365972</td>\n",
       "      <td>741.113552</td>\n",
       "      <td>0.0</td>\n",
       "      <td>0.00</td>\n",
       "      <td>549.0</td>\n",
       "      <td>957.00</td>\n",
       "      <td>9551.0</td>\n",
       "    </tr>\n",
       "    <tr>\n",
       "      <th>bill_3_2022</th>\n",
       "      <td>186558.0</td>\n",
       "      <td>651.451716</td>\n",
       "      <td>640.593475</td>\n",
       "      <td>0.0</td>\n",
       "      <td>219.00</td>\n",
       "      <td>548.0</td>\n",
       "      <td>892.00</td>\n",
       "      <td>9840.0</td>\n",
       "    </tr>\n",
       "    <tr>\n",
       "      <th>bill_4_2022</th>\n",
       "      <td>186558.0</td>\n",
       "      <td>564.719367</td>\n",
       "      <td>519.753992</td>\n",
       "      <td>0.0</td>\n",
       "      <td>249.00</td>\n",
       "      <td>490.0</td>\n",
       "      <td>755.00</td>\n",
       "      <td>8843.0</td>\n",
       "    </tr>\n",
       "    <tr>\n",
       "      <th>bill_5_2022</th>\n",
       "      <td>186558.0</td>\n",
       "      <td>568.517256</td>\n",
       "      <td>485.238007</td>\n",
       "      <td>0.0</td>\n",
       "      <td>284.00</td>\n",
       "      <td>497.0</td>\n",
       "      <td>746.00</td>\n",
       "      <td>8643.0</td>\n",
       "    </tr>\n",
       "    <tr>\n",
       "      <th>bill_6_2022</th>\n",
       "      <td>186558.0</td>\n",
       "      <td>688.353770</td>\n",
       "      <td>557.314860</td>\n",
       "      <td>0.0</td>\n",
       "      <td>352.00</td>\n",
       "      <td>594.0</td>\n",
       "      <td>893.00</td>\n",
       "      <td>9117.0</td>\n",
       "    </tr>\n",
       "    <tr>\n",
       "      <th>bill_1_2023</th>\n",
       "      <td>186558.0</td>\n",
       "      <td>920.319896</td>\n",
       "      <td>758.626605</td>\n",
       "      <td>0.0</td>\n",
       "      <td>451.00</td>\n",
       "      <td>746.0</td>\n",
       "      <td>1165.00</td>\n",
       "      <td>9333.0</td>\n",
       "    </tr>\n",
       "  </tbody>\n",
       "</table>\n",
       "</div>"
      ],
      "text/plain": [
       "                count          mean           std  min       25%      50%  \\\n",
       "accountID    186558.0  93278.500000  53854.800097  0.0  46639.25  93278.5   \n",
       "bill_1_2021  186558.0    466.917100    718.094048  0.0      0.00      0.0   \n",
       "bill_2_2021  186558.0    562.115112    808.298450  0.0      0.00    221.0   \n",
       "bill_3_2021  186558.0    513.730224    667.484855  0.0      0.00    350.0   \n",
       "bill_4_2021  186558.0    466.354419    562.397514  0.0      0.00    374.0   \n",
       "bill_5_2021  186558.0    463.413131    534.612340  0.0      0.00    387.0   \n",
       "bill_6_2021  186558.0    577.303464    635.093880  0.0      0.00    488.0   \n",
       "bill_1_2022  186558.0    725.422035    786.465344  0.0      0.00    596.0   \n",
       "bill_2_2022  186558.0    677.365972    741.113552  0.0      0.00    549.0   \n",
       "bill_3_2022  186558.0    651.451716    640.593475  0.0    219.00    548.0   \n",
       "bill_4_2022  186558.0    564.719367    519.753992  0.0    249.00    490.0   \n",
       "bill_5_2022  186558.0    568.517256    485.238007  0.0    284.00    497.0   \n",
       "bill_6_2022  186558.0    688.353770    557.314860  0.0    352.00    594.0   \n",
       "bill_1_2023  186558.0    920.319896    758.626605  0.0    451.00    746.0   \n",
       "\n",
       "                   75%       max  \n",
       "accountID    139917.75  186557.0  \n",
       "bill_1_2021     806.00    8914.0  \n",
       "bill_2_2021     876.00    9599.0  \n",
       "bill_3_2021     817.00    9191.0  \n",
       "bill_4_2021     732.00    9654.0  \n",
       "bill_5_2021     721.00    9499.0  \n",
       "bill_6_2021     872.00    8376.0  \n",
       "bill_1_2022    1068.00    9361.0  \n",
       "bill_2_2022     957.00    9551.0  \n",
       "bill_3_2022     892.00    9840.0  \n",
       "bill_4_2022     755.00    8843.0  \n",
       "bill_5_2022     746.00    8643.0  \n",
       "bill_6_2022     893.00    9117.0  \n",
       "bill_1_2023    1165.00    9333.0  "
      ]
     },
     "execution_count": 101,
     "metadata": {},
     "output_type": "execute_result"
    }
   ],
   "source": [
    "raw_d.describe(percentiles=[.25, .5,.75]).transpose()"
   ]
  },
  {
   "cell_type": "markdown",
   "id": "04e46cae",
   "metadata": {},
   "source": [
    "\n",
    "### 3.3 Categorizing target class: \n",
    "\n",
    "From this sample of **1,86,558 Energia customers**, there are **2,516 known EV** customers. The proportion of EV customers in the dataset is **1.35% (very low)** so this is **highly imbalanced dataset**."
   ]
  },
  {
   "cell_type": "code",
   "execution_count": 97,
   "id": "b427547a",
   "metadata": {},
   "outputs": [
    {
     "data": {
      "image/png": "[encoded data removed]",
      "text/plain": [
       "<Figure size 300x300 with 1 Axes>"
      ]
     },
     "metadata": {},
     "output_type": "display_data"
    }
   ],
   "source": [
    "visualizeFeatureCount(raw_d.replace({'EV': {'N':0, 'Y': 1}}), sizeX = 3, sizeY = 3)"
   ]
  },
  {
   "cell_type": "markdown",
   "id": "fa0e42a9",
   "metadata": {},
   "source": [
    "## 3.4 Distribution and plotting features"
   ]
  },
  {
   "cell_type": "markdown",
   "id": "3e176cd1",
   "metadata": {},
   "source": [
    "**Distribution of Signed Up Group type**"
   ]
  },
  {
   "cell_type": "code",
   "execution_count": 21,
   "id": "a6d1ce3a",
   "metadata": {},
   "outputs": [
    {
     "data": {
      "image/png": "[encoded data removed]",
      "text/plain": [
       "<Figure size 400x300 with 1 Axes>"
      ]
     },
     "metadata": {},
     "output_type": "display_data"
    }
   ],
   "source": [
    "pd.crosstab(raw_d[\"signedUpGroup\"], raw_d[\"EV\"]).plot( kind = \"bar\", figsize=(3,3));"
   ]
  },
  {
   "cell_type": "markdown",
   "id": "6ad8788f",
   "metadata": {},
   "source": [
    "**Distribution of Age band type**"
   ]
  },
  {
   "cell_type": "code",
   "execution_count": 22,
   "id": "88005c2a",
   "metadata": {
    "scrolled": false
   },
   "outputs": [
    {
     "data": {
      "image/png": "[encoded data removed]",
      "text/plain": [
       "<Figure size 400x300 with 1 Axes>"
      ]
     },
     "metadata": {},
     "output_type": "display_data"
    }
   ],
   "source": [
    "pd.crosstab(raw_d[\"agedBand\"], raw_d[\"EV\"]).plot( kind = \"bar\", figsize=(3,3));"
   ]
  },
  {
   "cell_type": "markdown",
   "id": "1c04b5e9",
   "metadata": {},
   "source": [
    "<br/><br/><br/><br/><br/>"
   ]
  },
  {
   "cell_type": "markdown",
   "id": "baa10bd8",
   "metadata": {},
   "source": [
    "**Distribution of Title type**"
   ]
  },
  {
   "cell_type": "code",
   "execution_count": 106,
   "id": "ad4361f6",
   "metadata": {},
   "outputs": [
    {
     "data": {
      "image/png": "[encoded data removed]",
      "text/plain": [
       "<Figure size 250x250 with 1 Axes>"
      ]
     },
     "metadata": {},
     "output_type": "display_data"
    }
   ],
   "source": [
    "pd.crosstab(raw_d[\"title\"], raw_d[\"EV\"]).sort_values(by='N', ascending=False).plot( kind = \"bar\", figsize=(2.5,2.5));"
   ]
  },
  {
   "cell_type": "markdown",
   "id": "a5cc4eac",
   "metadata": {},
   "source": [
    "**Distribution of mosaic type**"
   ]
  },
  {
   "cell_type": "code",
   "execution_count": 104,
   "id": "c357f82a",
   "metadata": {
    "scrolled": false
   },
   "outputs": [
    {
     "data": {
      "image/png": "[encoded data removed]",
      "text/plain": [
       "<Figure size 800x300 with 1 Axes>"
      ]
     },
     "metadata": {},
     "output_type": "display_data"
    }
   ],
   "source": [
    "pd.crosstab(raw_d[\"mosaicType\"], raw_d[\"EV\"]).sort_values(by='N', ascending=False).plot( kind = \"bar\", figsize=(8, 3));"
   ]
  },
  {
   "cell_type": "markdown",
   "id": "0311f644",
   "metadata": {},
   "source": [
    "**Pearson correlation coefficient of categorical variables**"
   ]
  },
  {
   "cell_type": "code",
   "execution_count": 46,
   "id": "c43b3df9",
   "metadata": {},
   "outputs": [
    {
     "data": {
      "text/html": [
       "<div>\n",
       "<style scoped>\n",
       "    .dataframe tbody tr th:only-of-type {\n",
       "        vertical-align: middle;\n",
       "    }\n",
       "\n",
       "    .dataframe tbody tr th {\n",
       "        vertical-align: top;\n",
       "    }\n",
       "\n",
       "    .dataframe thead th {\n",
       "        text-align: right;\n",
       "    }\n",
       "</style>\n",
       "<table border=\"1\" class=\"dataframe\">\n",
       "  <thead>\n",
       "    <tr style=\"text-align: right;\">\n",
       "      <th></th>\n",
       "      <th>agedBand</th>\n",
       "      <th>signedUpGroup</th>\n",
       "      <th>title</th>\n",
       "      <th>mosaicType</th>\n",
       "      <th>EV</th>\n",
       "      <th>EV_New_or_Old</th>\n",
       "    </tr>\n",
       "  </thead>\n",
       "  <tbody>\n",
       "    <tr>\n",
       "      <th>agedBand</th>\n",
       "      <td>1.0</td>\n",
       "      <td>-0.0395</td>\n",
       "      <td>0.0063</td>\n",
       "      <td>0.0017</td>\n",
       "      <td>0.0026</td>\n",
       "      <td>0.0026</td>\n",
       "    </tr>\n",
       "    <tr>\n",
       "      <th>signedUpGroup</th>\n",
       "      <td>-0.0395</td>\n",
       "      <td>1.0</td>\n",
       "      <td>0.0192</td>\n",
       "      <td>-0.1053</td>\n",
       "      <td>0.0557</td>\n",
       "      <td>0.0557</td>\n",
       "    </tr>\n",
       "    <tr>\n",
       "      <th>title</th>\n",
       "      <td>0.0063</td>\n",
       "      <td>0.0192</td>\n",
       "      <td>1.0</td>\n",
       "      <td>0.0228</td>\n",
       "      <td>-0.0209</td>\n",
       "      <td>-0.0209</td>\n",
       "    </tr>\n",
       "    <tr>\n",
       "      <th>mosaicType</th>\n",
       "      <td>0.0017</td>\n",
       "      <td>-0.1053</td>\n",
       "      <td>0.0228</td>\n",
       "      <td>1.0</td>\n",
       "      <td>0.0073</td>\n",
       "      <td>0.0073</td>\n",
       "    </tr>\n",
       "    <tr>\n",
       "      <th>EV</th>\n",
       "      <td>0.0026</td>\n",
       "      <td>0.0557</td>\n",
       "      <td>-0.0209</td>\n",
       "      <td>0.0073</td>\n",
       "      <td>1.0</td>\n",
       "      <td>1.0</td>\n",
       "    </tr>\n",
       "    <tr>\n",
       "      <th>EV_New_or_Old</th>\n",
       "      <td>0.0026</td>\n",
       "      <td>0.0557</td>\n",
       "      <td>-0.0209</td>\n",
       "      <td>0.0073</td>\n",
       "      <td>1.0</td>\n",
       "      <td>1.0</td>\n",
       "    </tr>\n",
       "  </tbody>\n",
       "</table>\n",
       "</div>"
      ],
      "text/plain": [
       "              agedBand signedUpGroup   title mosaicType      EV EV_New_or_Old\n",
       "agedBand           1.0       -0.0395  0.0063     0.0017  0.0026        0.0026\n",
       "signedUpGroup  -0.0395           1.0  0.0192    -0.1053  0.0557        0.0557\n",
       "title           0.0063        0.0192     1.0     0.0228 -0.0209       -0.0209\n",
       "mosaicType      0.0017       -0.1053  0.0228        1.0  0.0073        0.0073\n",
       "EV              0.0026        0.0557 -0.0209     0.0073     1.0           1.0\n",
       "EV_New_or_Old   0.0026        0.0557 -0.0209     0.0073     1.0           1.0"
      ]
     },
     "execution_count": 46,
     "metadata": {},
     "output_type": "execute_result"
    }
   ],
   "source": [
    "def r_pvalues(df):\n",
    "    cols = pd.DataFrame(columns=df.columns)\n",
    "    p = cols.transpose().join(cols, how='outer')\n",
    "    for r in df.columns:\n",
    "        for c in df.columns:\n",
    "            tmp = df[df[r].notnull() & df[c].notnull()]\n",
    "            p[r][c] = round(pearsonr(tmp[r], tmp[c])[0], 4)\n",
    "    return p\n",
    "\n",
    "#use custom function to calculate p-values\n",
    "r_pvalues(categorized_data[['agedBand',   'signedUpGroup',   'title',   'mosaicType',   'EV',   'EV_New_or_Old' ]])"
   ]
  },
  {
   "cell_type": "markdown",
   "id": "6ba5247d",
   "metadata": {},
   "source": [
    "Pearson correlation measures the strength of the relationship between EV and other variables, title has weakly negative correlation, ageband and signed up group has moderately positive correlation and mosaic type has strongly positive correlation"
   ]
  },
  {
   "cell_type": "markdown",
   "id": "dd9fda30",
   "metadata": {},
   "source": [
    "## 3.5 Correlation"
   ]
  },
  {
   "cell_type": "code",
   "execution_count": 110,
   "id": "7937d24f",
   "metadata": {},
   "outputs": [
    {
     "data": {
      "image/png": "[encoded data removed]",
      "text/plain": [
       "<Figure size 500x500 with 2 Axes>"
      ]
     },
     "metadata": {},
     "output_type": "display_data"
    }
   ],
   "source": [
    "def plot_corr_plot(ds):\n",
    "    corr = ds.corr(numeric_only=True) # .corr is used to find corelation\n",
    "    f,ax = plt.subplots(figsize=(5, 5))\n",
    "    sns.heatmap(corr, cbar = True,  square = True, annot = False, fmt= '.1f', \n",
    "                xticklabels= True, yticklabels= True\n",
    "                ,cmap=\"coolwarm\", linewidths=.5, ax=ax, )\n",
    "    plt.title('CORRELATION MATRIX - HEATMAP', size=5);\n",
    "\n",
    "categorized_data = raw_d.copy()\n",
    "\n",
    "le = LabelEncoder()\n",
    " \n",
    "# keeping nan values in title, agedband as they have relatively less effect on EV classification\n",
    "categorized_data['title'] = le.fit_transform(categorized_data['title'])\n",
    "categorized_data['mosaicType'] = le.fit_transform(categorized_data['mosaicType'])\n",
    "categorized_data['agedBand'] = le.fit_transform(categorized_data['agedBand'])\n",
    "categorized_data['signedUpGroup'] = le.fit_transform(categorized_data['signedUpGroup'])\n",
    "categorized_data['saStatus'] = le.fit_transform(categorized_data['saStatus'])\n",
    "\n",
    "\n",
    "# manually assigning numeric values to EV related categories\n",
    "rename_props = { 'EV': {'N': 0, 'Y': 1},\n",
    "                  'EV_New_or_Old': {'Non-EV Customers': 0, 'Switched to EV': 1, 'New EV Customer': 1}} \n",
    "\n",
    "categorized_data = categorized_data.replace(rename_props)\n",
    "\n",
    "    \n",
    "plot_corr_plot(categorized_data)"
   ]
  },
  {
   "cell_type": "markdown",
   "id": "7b32c032",
   "metadata": {},
   "source": [
    "Based on the Correlation plot we assume there is considerable correlation between billing information and some relation between categorical variables like signedUpGroup, agedBand and title. "
   ]
  },
  {
   "cell_type": "code",
   "execution_count": 114,
   "id": "672c175d",
   "metadata": {},
   "outputs": [],
   "source": [
    "# # check distribution of billing features before transforming\n",
    "# plot_hist_plots(cleaned_data, billing_months, fig_size=6)\n"
   ]
  },
  {
   "cell_type": "markdown",
   "id": "8717d59d",
   "metadata": {},
   "source": [
    "<br/><br/><br/><br/><br/><br/><br/><br/><br/><br/><br/><br/>"
   ]
  },
  {
   "cell_type": "markdown",
   "id": "d287bc9a",
   "metadata": {},
   "source": [
    "## 4. Methodology\n",
    "\n",
    "Based on the fact that, if a reading for the billing cycle is missed, the reading will be included in the next billing cycle. So average reading value is applied for previous and current month. Only one intermittent zero value is filled this way Consecutive zero values are ignored. The categorical variables are mapped into appropriate classes. The rows with NaN and zero values in the billing columns are dropped. "
   ]
  },
  {
   "cell_type": "code",
   "execution_count": 50,
   "id": "1340f997",
   "metadata": {},
   "outputs": [],
   "source": [
    "def average_missing_months(x):\n",
    "    for index, month in enumerate(billing_months[:-1]):\n",
    "        next_month = billing_months[index+1]\n",
    "        if x[month] == 0:\n",
    "            if(x[next_month] != 0):\n",
    "                x[month] = x[next_month] / 2\n",
    "                x[next_month] = x[next_month] / 2\n",
    "            else:\n",
    "                break\n",
    "    return x\n",
    "\n",
    "missing_months_handled = categorized_data.apply(average_missing_months, axis=1)"
   ]
  },
  {
   "cell_type": "code",
   "execution_count": 69,
   "id": "1e174103",
   "metadata": {},
   "outputs": [
    {
     "data": {
      "text/html": [
       "<style type=\"text/css\">\n",
       "</style>\n",
       "<table id=\"T_c9f2b\">\n",
       "  <caption>Table 1.1 Handling missing values through averaging</caption>\n",
       "  <thead>\n",
       "    <tr>\n",
       "      <th class=\"blank level0\" >&nbsp;</th>\n",
       "      <th id=\"T_c9f2b_level0_col0\" class=\"col_heading level0 col0\" >Raw</th>\n",
       "      <th id=\"T_c9f2b_level0_col1\" class=\"col_heading level0 col1\" >Missing Handled</th>\n",
       "      <th id=\"T_c9f2b_level0_col2\" class=\"col_heading level0 col2\" >% Reduced</th>\n",
       "    </tr>\n",
       "  </thead>\n",
       "  <tbody>\n",
       "    <tr>\n",
       "      <th id=\"T_c9f2b_level0_row0\" class=\"row_heading level0 row0\" >bill_1_2021</th>\n",
       "      <td id=\"T_c9f2b_row0_col0\" class=\"data row0 col0\" >103721</td>\n",
       "      <td id=\"T_c9f2b_row0_col1\" class=\"data row0 col1\" >83055</td>\n",
       "      <td id=\"T_c9f2b_row0_col2\" class=\"data row0 col2\" >19.920000</td>\n",
       "    </tr>\n",
       "    <tr>\n",
       "      <th id=\"T_c9f2b_level0_row1\" class=\"row_heading level0 row1\" >bill_2_2021</th>\n",
       "      <td id=\"T_c9f2b_row1_col0\" class=\"data row1 col0\" >87688</td>\n",
       "      <td id=\"T_c9f2b_row1_col1\" class=\"data row1 col1\" >83263</td>\n",
       "      <td id=\"T_c9f2b_row1_col2\" class=\"data row1 col2\" >5.050000</td>\n",
       "    </tr>\n",
       "    <tr>\n",
       "      <th id=\"T_c9f2b_level0_row2\" class=\"row_heading level0 row2\" >bill_3_2021</th>\n",
       "      <td id=\"T_c9f2b_row2_col0\" class=\"data row2 col0\" >78559</td>\n",
       "      <td id=\"T_c9f2b_row2_col1\" class=\"data row2 col1\" >73485</td>\n",
       "      <td id=\"T_c9f2b_row2_col2\" class=\"data row2 col2\" >6.460000</td>\n",
       "    </tr>\n",
       "    <tr>\n",
       "      <th id=\"T_c9f2b_level0_row3\" class=\"row_heading level0 row3\" >bill_4_2021</th>\n",
       "      <td id=\"T_c9f2b_row3_col0\" class=\"data row3 col0\" >69810</td>\n",
       "      <td id=\"T_c9f2b_row3_col1\" class=\"data row3 col1\" >66461</td>\n",
       "      <td id=\"T_c9f2b_row3_col2\" class=\"data row3 col2\" >4.800000</td>\n",
       "    </tr>\n",
       "    <tr>\n",
       "      <th id=\"T_c9f2b_level0_row4\" class=\"row_heading level0 row4\" >bill_5_2021</th>\n",
       "      <td id=\"T_c9f2b_row4_col0\" class=\"data row4 col0\" >65513</td>\n",
       "      <td id=\"T_c9f2b_row4_col1\" class=\"data row4 col1\" >61108</td>\n",
       "      <td id=\"T_c9f2b_row4_col2\" class=\"data row4 col2\" >6.720000</td>\n",
       "    </tr>\n",
       "    <tr>\n",
       "      <th id=\"T_c9f2b_level0_row5\" class=\"row_heading level0 row5\" >bill_6_2021</th>\n",
       "      <td id=\"T_c9f2b_row5_col0\" class=\"data row5 col0\" >59636</td>\n",
       "      <td id=\"T_c9f2b_row5_col1\" class=\"data row5 col1\" >55887</td>\n",
       "      <td id=\"T_c9f2b_row5_col2\" class=\"data row5 col2\" >6.290000</td>\n",
       "    </tr>\n",
       "    <tr>\n",
       "      <th id=\"T_c9f2b_level0_row6\" class=\"row_heading level0 row6\" >bill_1_2022</th>\n",
       "      <td id=\"T_c9f2b_row6_col0\" class=\"data row6 col0\" >55811</td>\n",
       "      <td id=\"T_c9f2b_row6_col1\" class=\"data row6 col1\" >49693</td>\n",
       "      <td id=\"T_c9f2b_row6_col2\" class=\"data row6 col2\" >10.960000</td>\n",
       "    </tr>\n",
       "    <tr>\n",
       "      <th id=\"T_c9f2b_level0_row7\" class=\"row_heading level0 row7\" >bill_2_2022</th>\n",
       "      <td id=\"T_c9f2b_row7_col0\" class=\"data row7 col0\" >50109</td>\n",
       "      <td id=\"T_c9f2b_row7_col1\" class=\"data row7 col1\" >44183</td>\n",
       "      <td id=\"T_c9f2b_row7_col2\" class=\"data row7 col2\" >11.830000</td>\n",
       "    </tr>\n",
       "    <tr>\n",
       "      <th id=\"T_c9f2b_level0_row8\" class=\"row_heading level0 row8\" >bill_3_2022</th>\n",
       "      <td id=\"T_c9f2b_row8_col0\" class=\"data row8 col0\" >34100</td>\n",
       "      <td id=\"T_c9f2b_row8_col1\" class=\"data row8 col1\" >31427</td>\n",
       "      <td id=\"T_c9f2b_row8_col2\" class=\"data row8 col2\" >7.840000</td>\n",
       "    </tr>\n",
       "    <tr>\n",
       "      <th id=\"T_c9f2b_level0_row9\" class=\"row_heading level0 row9\" >bill_4_2022</th>\n",
       "      <td id=\"T_c9f2b_row9_col0\" class=\"data row9 col0\" >25629</td>\n",
       "      <td id=\"T_c9f2b_row9_col1\" class=\"data row9 col1\" >22300</td>\n",
       "      <td id=\"T_c9f2b_row9_col2\" class=\"data row9 col2\" >12.990000</td>\n",
       "    </tr>\n",
       "    <tr>\n",
       "      <th id=\"T_c9f2b_level0_row10\" class=\"row_heading level0 row10\" >bill_5_2022</th>\n",
       "      <td id=\"T_c9f2b_row10_col0\" class=\"data row10 col0\" >18632</td>\n",
       "      <td id=\"T_c9f2b_row10_col1\" class=\"data row10 col1\" >15698</td>\n",
       "      <td id=\"T_c9f2b_row10_col2\" class=\"data row10 col2\" >15.750000</td>\n",
       "    </tr>\n",
       "    <tr>\n",
       "      <th id=\"T_c9f2b_level0_row11\" class=\"row_heading level0 row11\" >bill_6_2022</th>\n",
       "      <td id=\"T_c9f2b_row11_col0\" class=\"data row11 col0\" >14874</td>\n",
       "      <td id=\"T_c9f2b_row11_col1\" class=\"data row11 col1\" >11024</td>\n",
       "      <td id=\"T_c9f2b_row11_col2\" class=\"data row11 col2\" >25.880000</td>\n",
       "    </tr>\n",
       "    <tr>\n",
       "      <th id=\"T_c9f2b_level0_row12\" class=\"row_heading level0 row12\" >bill_1_2023</th>\n",
       "      <td id=\"T_c9f2b_row12_col0\" class=\"data row12 col0\" >9197</td>\n",
       "      <td id=\"T_c9f2b_row12_col1\" class=\"data row12 col1\" >9197</td>\n",
       "      <td id=\"T_c9f2b_row12_col2\" class=\"data row12 col2\" >0.000000</td>\n",
       "    </tr>\n",
       "  </tbody>\n",
       "</table>\n"
      ],
      "text/plain": [
       "<pandas.io.formats.style.Styler at 0x1df91addab0>"
      ]
     },
     "execution_count": 69,
     "metadata": {},
     "output_type": "execute_result"
    }
   ],
   "source": [
    "t = pd.DataFrame(columns=['Raw', 'Missing Handled', '% Reduced'])\n",
    "\n",
    "t['Raw'] = ((categorized_data[billing_months])== 0).sum()\n",
    "t['Missing Handled'] = ((missing_months_handled[billing_months])== 0).sum()\n",
    "t['% Reduced'] = round((t['Raw'] - t['Missing Handled']) / t['Raw'], 4 ) * 100\n",
    "\n",
    "t.style.set_caption('Table 1.1 Handling missing values through averaging')\n"
   ]
  },
  {
   "cell_type": "code",
   "execution_count": 118,
   "id": "31225fad",
   "metadata": {},
   "outputs": [
    {
     "name": "stdout",
     "output_type": "stream",
     "text": [
      "Dataset shape after cleaning:\n",
      "EV customers       : 1059  (1.08%)\n",
      "Non - EV customers : 96942 (98.92%)\n"
     ]
    }
   ],
   "source": [
    "cols_to_delete = ['StartDate','ContractStartDateEV','contractStartDate','contractEndDate','saStatus', 'accountID']\n",
    "if missing_months_handled.columns.isin(cols_to_delete).any():\n",
    "    missing_months_handled = missing_months_handled.drop(columns=cols_to_delete)\n",
    "\n",
    "def get_cleaned_data(df, is_zero_bill_value_allowed):\n",
    "    if is_zero_bill_value_allowed:\n",
    "        df['zero_count'] = df[billing_months].isin([0]).sum(axis=1)\n",
    "        cleaned_data = df.copy()\n",
    "    else:\n",
    "        cleaned_data = df[~df[billing_months].isin([0]).any(axis=1)]\n",
    "    \n",
    "    return cleaned_data\n",
    "cleaned_data = get_cleaned_data(missing_months_handled, is_zero_bill_value_allowed = False)\n",
    "\n",
    "\n",
    "# visualizeFeatureCount(cleaned_data, sizeX = 2.5, sizeY = 2.5)   \n",
    "\n",
    "cleaned_data['EV'].value_counts()\n",
    "\n",
    "print('Dataset shape after cleaning:')\n",
    "print('EV customers       : {}  ({}%)'.format(len(cleaned_data[cleaned_data.EV ==1]), round(len(cleaned_data[cleaned_data.EV ==1]) / len(cleaned_data), 4)*100 ))\n",
    "print('Non - EV customers : {} ({}%)'.format(len(cleaned_data[cleaned_data.EV ==0]), round(len(cleaned_data[cleaned_data.EV ==0]) / len(cleaned_data), 4)*100 ))"
   ]
  },
  {
   "cell_type": "markdown",
   "id": "54e765f9",
   "metadata": {},
   "source": [
    "From the above table it is evident that our strategy in handling missing month reading has signnificant reduction in certain months"
   ]
  },
  {
   "cell_type": "code",
   "execution_count": 123,
   "id": "c845ad8b",
   "metadata": {},
   "outputs": [],
   "source": [
    "# check distribution of billing features before transforming\n",
    "plot_hist_plots(cleaned_data, cleaned_data.columns, fig_size=12)"
   ]
  },
  {
   "cell_type": "code",
   "execution_count": 126,
   "id": "2e48484b",
   "metadata": {},
   "outputs": [],
   "source": [
    "import warnings\n",
    "warnings.filterwarnings(action='once')\n",
    "\n",
    "from sklearn.exceptions import ConvergenceWarning\n",
    "ConvergenceWarning('ignore')"
   ]
  },
  {
   "cell_type": "code",
   "execution_count": 78,
   "id": "be4e63e7",
   "metadata": {},
   "outputs": [],
   "source": [
    "#test Graph\n",
    "import matplotlib as mpl\n",
    "\n",
    "import pandas as pd\n",
    "import numpy as np\n",
    "import matplotlib.pyplot as plt\n",
    "import seaborn as sns # used for plot interactive graph.\n",
    "import seaborn.objects as so\n",
    "from scipy.stats import pearsonr\n",
    "\n",
    "from sklearn.model_selection import train_test_split # to split the data into two parts\n",
    "from collections import Counter\n",
    "from sklearn.preprocessing import LabelEncoder\n",
    "\n",
    "from sklearn.linear_model import LogisticRegression # to apply the Logistic regression\n",
    "from sklearn.model_selection import RandomizedSearchCV  # Randomized search on hyper parameters.\n",
    "\n",
    "from sklearn.feature_selection import RFE\n",
    "from sklearn.preprocessing import MinMaxScaler, StandardScaler, MaxAbsScaler, RobustScaler\n",
    "from scipy.stats import boxcox\n",
    "from sklearn import metrics # for the check the error and accuracy of the model\n",
    "\n",
    "from sklearn.model_selection import cross_val_score\n",
    "from sklearn.metrics import classification_report\n",
    "from sklearn.metrics import confusion_matrix\n",
    "from sklearn.metrics import mean_squared_error\n",
    "\n",
    "from sklearn.tree import DecisionTreeClassifier\n",
    "from sklearn.ensemble import RandomForestClassifier\n",
    "from sklearn.svm import SVC\n",
    "\n",
    "from imblearn.under_sampling import NearMiss\n",
    "from imblearn.over_sampling import SMOTE\n",
    "\n",
    "sns.set_theme(style=\"whitegrid\")\n",
    "# from xgboost import XGBClassifier\n",
    "\n",
    "from tabulate import tabulate"
   ]
  },
  {
   "cell_type": "code",
   "execution_count": 12,
   "id": "8064006c",
   "metadata": {},
   "outputs": [],
   "source": []
  },
  {
   "cell_type": "code",
   "execution_count": 79,
   "id": "26320dd1",
   "metadata": {},
   "outputs": [],
   "source": [
    "# based on the fact that ifn one reading is missed for a particular month, the reading will be accumulated to next month.\n",
    "# the reading is averaged between missing and accumulated months.\n",
    "# only one missed month is accepted thus eleminating rows with consecutive zeros\n",
    "# end result will have no zero readings\n",
    "def average_missing_months(x):\n",
    "    for index, month in enumerate(billing_months[:-1]):\n",
    "        next_month = billing_months[index+1]\n",
    "        if x[month] == 0:\n",
    "            if(x[next_month] != 0):\n",
    "                x[month] = x[next_month] / 2\n",
    "                x[next_month] = x[next_month] / 2\n",
    "            else:\n",
    "                break\n",
    "    return x\n",
    "\n"
   ]
  },
  {
   "cell_type": "code",
   "execution_count": 80,
   "id": "9387d014",
   "metadata": {},
   "outputs": [],
   "source": [
    "def visualizeFeatureCount(dataset, feature = 'EV', sizeX = 7, sizeY =7):\n",
    "    totalData = len(dataset)\n",
    "    hasFeature = dataset[feature].sum()\n",
    "    hasNoFeature = totalData - hasFeature\n",
    "\n",
    "    hasFeature_per = round(hasFeature/totalData * 100, 2)\n",
    "    hasNoFeature_per = round(hasNoFeature/totalData * 100, 2)\n",
    "\n",
    "    plt.figure(figsize=(sizeX,sizeY))\n",
    "    sns.countplot(data = dataset, x=feature)\n",
    "    plt.annotate('No {}: {}'.format(feature, hasNoFeature), xy=(-0.3, 15000), xytext=(-0.3, 3000), size=12)\n",
    "    plt.annotate('{}: {}'.format(feature, hasFeature), xy=(0.7, 15000), xytext=(0.9, 3000), size=12)\n",
    "    plt.annotate(str(hasNoFeature_per)+\" %\", xy=(-0.3, 15000), xytext=(-0.1, 20000), size=12)\n",
    "    plt.annotate(str(hasFeature_per)+\" %\", xy=(0.7, 15000), xytext=(0.9, 20000), size=12)\n",
    "    plt.show()\n",
    "    \n",
    "    \n",
    "def predict_and_visualize(model, class_col, dataset=None, class_col_predicted= 'EV_predicted'):\n",
    "    \n",
    "    if dataset is None:\n",
    "        x = df.copy()\n",
    "        \n",
    "    else:\n",
    "        x = dataset.copy()\n",
    "        \n",
    "    x= x.drop(columns=[class_col])\n",
    "    x[class_col_predicted] = model.predict(x)\n",
    "    visualizeFeatureCount(x, feature='EV_predicted')\n",
    "    \n",
    "\n",
    "def plot_hist_plots(t_data, t_features, fig_size= 8):\n",
    "    f = plt.figure(figsize=(fig_size,fig_size))\n",
    "    for i, feature in enumerate(t_features):\n",
    "        t = f.add_subplot(round(len(t_features)/3) + 1,3, i+1)\n",
    "        sns.histplot(t_data[feature])\n",
    "        t.title.set_text(feature)\n",
    "    plt.show();\n",
    "\n",
    "def plot_corr_plot(ds):\n",
    "    corr = ds.corr(numeric_only=True) # .corr is used to find corelation\n",
    "    f,ax = plt.subplots(figsize=(8, 7))\n",
    "    sns.heatmap(corr, cbar = True,  square = True, annot = True, fmt= '.1f', \n",
    "                xticklabels= True, yticklabels= True\n",
    "                ,cmap=\"coolwarm\", linewidths=.5, ax=ax)\n",
    "    plt.title('CORRELATION MATRIX - HEATMAP', size=18);\n",
    "\n"
   ]
  },
  {
   "cell_type": "code",
   "execution_count": 14,
   "id": "f6af6093",
   "metadata": {},
   "outputs": [],
   "source": [
    "# ignore - Applying log transformation to fix right skewness in billing period distribution\n",
    "# sqrt_t_data = cleaned_data.copy()\n",
    "\n",
    "# for month in billing_months:\n",
    "#     sqrt_t_data[month] = np.sqrt(sqrt_t_data[month])\n",
    "\n",
    "# plot_hist_plots(sqrt_t_data, billing_months)"
   ]
  },
  {
   "cell_type": "code",
   "execution_count": 478,
   "id": "c90aafa7",
   "metadata": {},
   "outputs": [],
   "source": [
    "# perform logistic regression\n",
    "\n",
    "from sklearn.utils._testing import ignore_warnings\n",
    "from sklearn.exceptions import ConvergenceWarning\n",
    "\n",
    "\n",
    "def perform_sampling(x_train, y_train, y_test, sampling=None):\n",
    "    if sampling:\n",
    "        print('Training set shape: {}'.format(Counter(y_train)))\n",
    "\n",
    "        if sampling == 'under':\n",
    "            from imblearn.under_sampling import NearMiss \n",
    "            sampler = NearMiss(version=1, n_neighbors=3)\n",
    "        elif sampling == 'over':\n",
    "            from imblearn.over_sampling import SMOTE \n",
    "            sampler = SMOTE(random_state=42)\n",
    "\n",
    "        x_train, y_train = sampler.fit_resample(x_train, y_train)\n",
    "        print('Training set after sampling: {}'.format(Counter(y_train)))\n",
    "        \n",
    "    return x_train, y_train\n",
    "\n",
    "@ignore_warnings(category=ConvergenceWarning)\n",
    "def perform_logistic_reg(data, class_col, sampling=None, solver='lbfgs', weight = None, return_metrics = False):\n",
    "    x = data.drop(class_col, axis=1)  \n",
    "    y = data[class_col]\n",
    "\n",
    "    X_train, X_test, y_train, y_test = train_test_split(x,y, test_size=0.20, stratify=y, random_state=42)\n",
    "    \n",
    "    if sampling:\n",
    "        X_train, y_train = perform_sampling(X_train, y_train,y_test,  sampling)\n",
    "\n",
    "    LR = LogisticRegression(C=0.00005, random_state=0, solver=solver ,class_weight = weight)\n",
    "    LR.fit(X_train, y_train)\n",
    "    y_pred = LR.predict(X_test)\n",
    "    metrics = get_metrics(y_pred, X_test, y_test, LR, x, y, sampling, modal_name='Linear Regression')\n",
    "    \n",
    "    return LR, metrics\n",
    "    \n",
    "def get_metrics(y_pred, X_test, y_test, LR, x, y, sampling = None, modal_name = ''):\n",
    "    ## 5-fold cross-validation \n",
    "    cv_scores =cross_val_score(LR, x, y, cv=10)\n",
    "\n",
    "    modal_report = classification_report(y_test, y_pred, output_dict = True)\n",
    "    # Print the 5-fold cross-validation scores\n",
    "    print()\n",
    "    print(classification_report(y_test, y_pred))\n",
    "    print()\n",
    "    print(\"Average 5-Fold CV Score: {}\".format(round(np.mean(cv_scores),4)),\n",
    "          \", Standard deviation: {}\".format(round(np.std(cv_scores),4)))\n",
    "\n",
    "    plt.figure(figsize=(4,3))\n",
    "    ConfMatrix = confusion_matrix(y_test,LR.predict(X_test))\n",
    "    sns.heatmap(ConfMatrix,annot=True, cmap=\"Blues\", fmt=\"d\", \n",
    "                xticklabels = ['No EV', 'EV'], \n",
    "                yticklabels = ['No EV', 'EV'])\n",
    "    plt.ylabel('True label')\n",
    "    plt.xlabel('Predicted label')\n",
    "    plt.title(\"Confusion Matrix - {} - {}\".format(modal_name, sampling));\n",
    "    \n",
    "    total1=sum(sum(ConfMatrix))\n",
    "    #####from confusion matrix calculate accuracy\n",
    "    accuracy = metrics.accuracy_score(y_pred,y_test)\n",
    "    print('Accuracy:', accuracy)\n",
    "    sensitivity = ConfMatrix[0,0]/(ConfMatrix[0,0]+ConfMatrix[0,1])\n",
    "    print('Sensitivity : ', sensitivity )\n",
    "    specificity = ConfMatrix[1,1]/(ConfMatrix[1,0]+ConfMatrix[1,1])\n",
    "    print('Specificity : ', specificity)\n",
    "#     ['accuracy', 'sensitivity', 'specificity', 'recall(0)', 'f1-score(0)', 'recall(1)', 'f1-score(1)' ]\n",
    "    return np.array([accuracy, sensitivity, specificity, modal_report['0']['recall'], modal_report['0']['f1-score'], modal_report['1']['recall'], modal_report['1']['f1-score'] ]).round(4)\n",
    "     \n",
    "\n",
    "modal_score_cols = ['accuracy', 'sensitivity', 'specificity', 'f1-score(0)', 'f1-score(1)' ]\n",
    "modal_scores = pd.DataFrame()\n",
    "modal_scores['Metrics'] = modal_score_cols"
   ]
  },
  {
   "cell_type": "code",
   "execution_count": null,
   "id": "36f544cd",
   "metadata": {},
   "outputs": [],
   "source": []
  },
  {
   "cell_type": "code",
   "execution_count": 87,
   "id": "310f9021",
   "metadata": {
    "scrolled": false
   },
   "outputs": [],
   "source": [
    "LR_over, LR_over_metrics = perform_logistic_reg(cleaned_data, class_col='EV', sampling='over')\n",
    "predict_and_visualize(LR2, 'EV', dataset=df)\n",
    "\n",
    "modal_scores['Logistic Regression(Up-sampled)'] = LR_over_metrics"
   ]
  },
  {
   "cell_type": "code",
   "execution_count": 88,
   "id": "76fcdc53",
   "metadata": {},
   "outputs": [],
   "source": [
    "LR_under, LR_under_metrics = perform_logistic_reg(cleaned_data, class_col='EV', sampling='under')\n",
    "predict_and_visualize(LR_under, 'EV', dataset=df)\n",
    "\n",
    "modal_scores['Logistic Regression(Down-sampled)'] = LR_under_metrics"
   ]
  },
  {
   "cell_type": "code",
   "execution_count": 89,
   "id": "7efc18f7",
   "metadata": {},
   "outputs": [],
   "source": [
    "LR_weighted, LR_under_metrics = perform_logistic_reg(cleaned_data, class_col='EV', sampling=None, weight={0: 1, 1: 99})\n",
    "predict_and_visualize(LR_weighted, 'EV', dataset=df)\n",
    "\n",
    "modal_scores['Logistic Regression(Weight)'] = LR_under_metrics"
   ]
  },
  {
   "cell_type": "code",
   "execution_count": 48,
   "id": "09af9847",
   "metadata": {},
   "outputs": [],
   "source": [
    "# # anayzing with scaled data and perform LR\n",
    "def scale_data_standard_scaler(data, feature_cols):\n",
    "    scaled_data = data.copy()\n",
    "    features = scaled_data[feature_cols]\n",
    "    scaler = StandardScaler().fit(features.values)\n",
    "    features = scaler.transform(features.values)\n",
    "    scaled_data[feature_cols] = features\n",
    "    return scaled_data\n",
    "\n",
    "# scaled_data = scale_data_standard_scaler(cleaned_data, billing_months)\n",
    "# LR4 = perform_logistic_reg(scaled_data, class_col='EV' )\n",
    "# predict_and_visualize(LR4,'EV', dataset=df)"
   ]
  },
  {
   "cell_type": "code",
   "execution_count": 18,
   "id": "39123423",
   "metadata": {},
   "outputs": [],
   "source": [
    "# Perform RFE and find important features \n",
    "\n",
    "@ignore_warnings(category=ConvergenceWarning)\n",
    "def perform_RFE(dataset, class_col='EV'):\n",
    "    test_df_1 = dataset.copy()\n",
    "\n",
    "    x = test_df_1.drop(class_col, axis=1)  \n",
    "    y = test_df_1[class_col]\n",
    "\n",
    "    model = LogisticRegression()\n",
    "    rfe_stand = RFE(model, n_features_to_select = 9 )\n",
    "    fit_stand = rfe_stand.fit(x, y)\n",
    "    print(\"St Model Num Features:\", fit_stand.n_features_)\n",
    "    #print(\"St Model Selected Features:\", fit_stand.support_)\n",
    "    print(\"Std Model Feature Ranking:\", fit_stand.ranking_)\n",
    "    # calculate the score for the selected features\n",
    "    score_stand = rfe_stand.score(x,y)\n",
    "#     print(\"Standardized Model Score with selected features is: %f (%f)\" % (score_stand.mean(), score_stand.std()))\n",
    "    feature_names = np.array(x.columns)\n",
    "    print('Most important features (RFE): %s'% feature_names[rfe_stand.support_])\n",
    "    \n",
    "    return feature_names[rfe_stand.support_]"
   ]
  },
  {
   "cell_type": "code",
   "execution_count": 19,
   "id": "114b6da9",
   "metadata": {},
   "outputs": [],
   "source": [
    "# Analysing important features with RFE\n",
    "\n",
    "RFE_data = cleaned_data.copy()\n",
    "# RFE_data = scale_data_standard_scaler(RFE_data, billing_months)\n",
    "\n",
    "imp_cols = perform_RFE(RFE_data)\n",
    "\n",
    "imp_data = RFE_data[imp_cols]\n",
    "imp_data['EV'] = cleaned_data['EV'].to_numpy()\n",
    "imp_LR = perform_logistic_reg(imp_data, class_col='EV')\n",
    "predict_and_visualize(imp_LR, 'EV', dataset = df[[imp_cols]])"
   ]
  },
  {
   "cell_type": "code",
   "execution_count": 90,
   "id": "550e8e58",
   "metadata": {},
   "outputs": [],
   "source": [
    "## Analysing with Decision tree algorithm\n",
    "\n",
    "DT_data = cleaned_data.copy()\n",
    "\n",
    "# Setup the parameters and distributions to sample from: param_dist\n",
    "param_dist = {\"max_depth\": [1,2,3,4,5,6,7,8,9],\n",
    "              \"max_features\": [1,2,3,4,5,6,7,8,9],\n",
    "              \"min_samples_leaf\": [1,2,3,4,5,6,7,8,9],\n",
    "              \"criterion\": [\"gini\", \"entropy\"]}\n",
    "\n",
    "# Instantiate a Decision Tree classifier: tree\n",
    "tree = DecisionTreeClassifier()\n",
    "\n",
    "# Instantiate the RandomizedSearchCV object: tree_cv\n",
    "tree_cv = RandomizedSearchCV(tree, param_distributions=param_dist, cv=5, random_state=0)\n",
    "\n",
    "x = DT_data.drop('EV', axis=1)  \n",
    "y = DT_data['EV']\n",
    "\n",
    "X_train, X_test, y_train, y_test = train_test_split(x,y, test_size=0.20, stratify=y, random_state=42)\n",
    "    \n",
    "X_train, y_train = perform_sampling(X_train, y_train, y_test, sampling='under')\n",
    "\n",
    "# Fit it to the data\n",
    "tree_cv.fit(X_train, y_train)\n",
    "\n",
    "# Print the tuned parameters and score\n",
    "print(\"Tuned Decision Tree Parameters: {}\".format(tree_cv.best_params_))\n",
    "\n",
    "Tree = DecisionTreeClassifier(criterion= 'gini', max_depth= 8, \n",
    "                                     max_features= 4, min_samples_leaf= 6, \n",
    "                                     random_state=0)\n",
    "Tree.fit(X_train, y_train)\n",
    "y_pred = Tree.predict(X_test)\n",
    "print('Accuracy:', metrics.accuracy_score(y_pred,y_test))\n",
    "\n",
    "DT_metrics = get_metrics(y_pred, X_test, y_test, Tree, x, y, modal_name='DecisionTree Classifier')\n",
    "predict_and_visualize(Tree ,  'EV', dataset=df[df.EV == 0])\n",
    "\n",
    "modal_scores['Decision Tree'] = DT_metrics"
   ]
  },
  {
   "cell_type": "code",
   "execution_count": 121,
   "id": "ebfd4456",
   "metadata": {},
   "outputs": [],
   "source": [
    "# predict_and_visualize(Tree ,  'EV', dataset=df[df.EV == 0])"
   ]
  },
  {
   "cell_type": "code",
   "execution_count": 91,
   "id": "5dc1cda5",
   "metadata": {},
   "outputs": [],
   "source": [
    "# # ## Random forest classification\n",
    "\n",
    "RF_data = cleaned_data.copy()\n",
    "\n",
    "param_dist = {'n_estimators': [50,100,150,200,250],\n",
    "               \"max_features\": [1,2,3,4,5,6,7,8,9],\n",
    "               'max_depth': [1,2,3,4,5,6,7,8,9],\n",
    "               \"criterion\": [\"gini\", \"entropy\"]}\n",
    "\n",
    "rf = RandomForestClassifier()\n",
    "\n",
    "x = RF_data.drop('EV', axis=1)  \n",
    "y = RF_data['EV']\n",
    "\n",
    "X_train, X_test, y_train, y_test = train_test_split(x,y, test_size=0.20, stratify=y, random_state=42)\n",
    "\n",
    "X_train, y_train = perform_sampling(X_train, y_train, y_test, sampling='under')\n",
    "\n",
    "rf_cv = RandomizedSearchCV(rf, param_distributions = param_dist, \n",
    "                           cv = 5, random_state=0, n_jobs = -1)\n",
    "\n",
    "rf_cv.fit(x, y)\n",
    "\n",
    "print(\"Tuned Random Forest Parameters: %s\" % (rf_cv.best_params_))\n",
    "\n",
    "\n",
    "Ran = RandomForestClassifier(criterion= 'entropy', max_depth= 5, \n",
    "                                     max_features= 6, n_estimators= 200, \n",
    "                                     random_state=0)\n",
    "Ran.fit(X_train, y_train)\n",
    "y_pred = Ran.predict(X_test)\n",
    "print('Accuracy:', metrics.accuracy_score(y_pred,y_test))\n",
    "\n",
    "RF_metrics = get_metrics(y_pred, X_test, y_test, Ran, x, y, modal_name=\"Random Forest\")\n",
    "\n",
    "modal_scores['Random forest Metrics'] = RF_metrics"
   ]
  },
  {
   "cell_type": "code",
   "execution_count": 22,
   "id": "71c93e7d",
   "metadata": {},
   "outputs": [],
   "source": [
    "# SVM_data = cleaned_data.copy()\n",
    "\n",
    "# x = SVM_data.drop('EV', axis=1)  \n",
    "# y = SVM_data['EV']\n",
    "\n",
    "# X_train, X_test, y_train, y_test = train_test_split(x, y, test_size=0.2, random_state=42)\n",
    "\n",
    "# X_train, y_train = perform_sampling(X_train, y_train, y_test, 'under')\n",
    "\n",
    "# SVM_Model = SVC(kernel='linear', C=1.0, class_weight='balanced')\n",
    "\n",
    "# SVM_Model.fit(X_train,y_train)\n",
    "\n",
    "# y_pred = SVM_Model.predict(X_test)\n",
    "# print('Accuracy:', metrics.accuracy_score(y_pred,y_test))\n",
    "\n",
    "# get_metrics(y_pred, X_test, y_test, SVM_Model, x, y, modal_name=\"SVM\")\n",
    "\n",
    "# print (f'Accuracy - : {SVM_Model.score(x,y):.3f}')\n"
   ]
  },
  {
   "cell_type": "code",
   "execution_count": 92,
   "id": "ae3eca86",
   "metadata": {},
   "outputs": [],
   "source": [
    "## KNN classification\n",
    "\n",
    "KNN_data = cleaned_data.copy()\n",
    "\n",
    "# KNN_data = scale_data_standard_scaler(KNN_data, KNN_data.columns)\n",
    "\n",
    "# for month in KNN_data.columns:\n",
    "#     KNN_data[month] = boxcox(KNN_data[month])[0]\n",
    "    \n",
    "x = KNN_data.drop('EV', axis=1)  \n",
    "y = KNN_data['EV']\n",
    "\n",
    "X_train, X_test, y_train, y_test = train_test_split(x,y, test_size=0.20, stratify=y, random_state=42)\n",
    "\n",
    "X_train, y_train = perform_sampling(X_train, y_train, y_test, sampling='under')\n",
    "\n",
    "from sklearn.neighbors import KNeighborsClassifier\n",
    "training_accuracy = []\n",
    "test_accuracy = []\n",
    "# try n_neighbors from 1 to 10\n",
    "neighbors_settings = range(1, 11)\n",
    "for n_neighbors in neighbors_settings:\n",
    "    # build the model\n",
    "    knn = KNeighborsClassifier(n_neighbors=n_neighbors)\n",
    "    knn.fit(X_train, y_train)\n",
    "    # record training set accuracy\n",
    "    training_accuracy.append(knn.score(X_train, y_train))\n",
    "    # record test set accuracy\n",
    "    test_accuracy.append(knn.score(X_test, y_test))\n",
    "plt.plot(neighbors_settings, training_accuracy, label=\"training accuracy\")\n",
    "plt.plot(neighbors_settings, test_accuracy, label=\"test accuracy\")\n",
    "plt.ylabel(\"Accuracy\")\n",
    "plt.xlabel(\"n_neighbors\")\n",
    "plt.legend()\n",
    "plt.savefig('knn_compare_model')\n",
    "\n",
    "knn = KNeighborsClassifier(n_neighbors=10)\n",
    "knn.fit(X_train, y_train)\n",
    "print('Accuracy of K-NN classifier on training set: {:.2f}'.format(knn.score(X_train, y_train)))\n",
    "print('Accuracy of K-NN classifier on test set: {:.2f}'.format(knn.score(X_test, y_test)))\n",
    "\n",
    "\n",
    "y_pred = knn.predict(X_test)\n",
    "print('Accuracy:', metrics.accuracy_score(y_pred,y_test))\n",
    "\n",
    "KNN_metrics = get_metrics(y_pred, X_test, y_test, Ran, x, y, modal_name=\"KNN classifier\")\n",
    "\n",
    "modal_scores['KNN - modal'] = KNN_metrics"
   ]
  },
  {
   "cell_type": "code",
   "execution_count": 120,
   "id": "14fbe07b",
   "metadata": {},
   "outputs": [],
   "source": [
    "predict_and_visualize(knn ,  'EV', dataset=df[df.EV == 0])\n",
    "# KNN_metrics"
   ]
  },
  {
   "cell_type": "code",
   "execution_count": 93,
   "id": "cefd3f9b",
   "metadata": {},
   "outputs": [],
   "source": [
    "\n",
    "GraBo = cleaned_data.copy()\n",
    "\n",
    "# KNN_data = scale_data_standard_scaler(KNN_data, KNN_data.columns)\n",
    "\n",
    "# for month in KNN_data.columns:\n",
    "#     KNN_data[month] = boxcox(KNN_data[month])[0]\n",
    "    \n",
    "x = GraBo.drop('EV', axis=1)  \n",
    "y = GraBo['EV']\n",
    "\n",
    "X_train, X_test, y_train, y_test = train_test_split(x,y, test_size=0.20, stratify=y, random_state=42)\n",
    "\n",
    "X_train, y_train = perform_sampling(X_train, y_train, y_test, sampling='over')\n",
    "\n",
    "from sklearn.ensemble import GradientBoostingClassifier\n",
    "gb = XGBClassifier(scale_pos_weight=99)\n",
    "gb.fit(X_train, y_train)\n",
    "print('Accuracy on training set: {:.3f}'.format(gb.score(X_train, y_train)))\n",
    "print('Accuracy on test set: {:.3f}'.format(gb.score(X_test, y_test)))\n",
    "      \n",
    "y_pred = gb.predict(X_test)\n",
    "print('Accuracy:', metrics.accuracy_score(y_pred,y_test))\n",
    "\n",
    "GR_BO_metrics = get_metrics(y_pred, X_test, y_test, Ran, x, y, modal_name=\"Gradient Boosting\")\n",
    "\n",
    "modal_scores['Gradient Boosting'] = GR_BO_metrics"
   ]
  },
  {
   "cell_type": "markdown",
   "id": "9cf1408f",
   "metadata": {},
   "source": [
    "## 5. Comparison of model performance"
   ]
  },
  {
   "cell_type": "code",
   "execution_count": 130,
   "id": "6238ed7f",
   "metadata": {},
   "outputs": [],
   "source": [
    "modal_scores"
   ]
  },
  {
   "cell_type": "code",
   "execution_count": 128,
   "id": "c6f036a5",
   "metadata": {},
   "outputs": [],
   "source": [
    "ROC = cleaned_data.copy()\n",
    "\n",
    "x = ROC.drop('EV', axis=1)  \n",
    "y = ROC['EV']\n",
    "\n",
    "X_train, X_test, y_train, y_test = train_test_split(x,y, test_size=0.20, stratify=y, random_state=100)\n",
    "\n",
    "\n",
    "y_pred_proba_RF = Tree.predict_proba(X_test)[::,1]\n",
    "fpr1, tpr1, _ = metrics.roc_curve(y_test,  y_pred_proba_RF)\n",
    "auc1 = metrics.roc_auc_score(y_test, y_pred_proba_RF)\n",
    "\n",
    "y_pred_proba_DT = LR_over.predict_proba(X_test)[::,1]\n",
    "fpr2, tpr2, _ = metrics.roc_curve(y_test,  y_pred_proba_DT)\n",
    "auc2 = metrics.roc_auc_score(y_test, y_pred_proba_DT)\n",
    "\n",
    "y_pred_proba_LR = LR_under.predict_proba(X_test)[::,1]\n",
    "fpr3, tpr3, _ = metrics.roc_curve(y_test,  y_pred_proba_LR)\n",
    "auc3 = metrics.roc_auc_score(y_test, y_pred_proba_LR)\n",
    "\n",
    "mod, met = LR_weighted\n",
    "\n",
    "y_pred_proba_LRS = mod.predict_proba(X_test)[::,1]\n",
    "fpr4, tpr4, _ = metrics.roc_curve(y_test,  y_pred_proba_LRS)\n",
    "auc4 = metrics.roc_auc_score(y_test, y_pred_proba_LRS)\n",
    "\n",
    "y_pred_proba_LRimp = knn.predict_proba(X_test)[::,1]\n",
    "fpr5, tpr5, _ = metrics.roc_curve(y_test,  y_pred_proba_LRimp)\n",
    "auc5 = metrics.roc_auc_score(y_test, y_pred_proba_LRimp)\n",
    "\n",
    "plt.figure(figsize=(10,7))\n",
    "plt.plot([0, 1], [0, 1], 'k--')\n",
    "plt.plot(fpr1,tpr1,label=\"Decision Tree, auc=\"+str(round(auc1,2)))\n",
    "plt.plot(fpr2,tpr2,label=\"LR over, auc=\"+str(round(auc2,2)))\n",
    "plt.plot(fpr3,tpr3,label=\"LR under, auc=\"+str(round(auc3,2)))\n",
    "plt.plot(fpr4,tpr4,label=\"Gradient Boost, auc=\"+str(round(auc3,2)))\n",
    "plt.plot(fpr5,tpr5,label=\"KNN, auc=\"+str(round(auc3,2)))\n",
    "plt.legend(loc=4, title='Models', facecolor='white')\n",
    "plt.xlabel('False Positive Rate')\n",
    "plt.ylabel('True Positive Rate')\n",
    "plt.title('ROC', size=15)\n",
    "plt.box(False)\n",
    "plt.savefig('ImageName', format='png', dpi=200, transparent=True);\n"
   ]
  },
  {
   "cell_type": "markdown",
   "id": "10609637",
   "metadata": {},
   "source": [
    "## 6. Conclusion"
   ]
  },
  {
   "cell_type": "markdown",
   "id": "66ebf57d",
   "metadata": {},
   "source": [
    "For the presented dataset we hve implemented Logistic Regression (Up-sampled), Decision Tree, Logistic Regression(Weighted), KNN - modal, Logistic Regression (Down-sampled), Random forest Metrics, Gradient Boosting algorithms and performed statistical analysis. Comparing the accuracy of these models, Logistic regression with upsampled modal has the relatively better accuracy of **0.8140**, followed by descion tree with **0.7782** accuracy. \n",
    "\n",
    "No of customers identified from Non EV class:\n",
    "\n",
    "Decision Tree Algorithm    -  34,368(18.67%) \n",
    "<br/>\n",
    "LR Upsampled Algorithm   -  48,480(25.99%)"
   ]
  },
  {
   "cell_type": "code",
   "execution_count": 77,
   "id": "a7c45e1f",
   "metadata": {},
   "outputs": [
    {
     "data": {
      "text/html": [
       "<script>\n",
       "show=true; \n",
       "function code_toggle() {\n",
       " if (show){\n",
       " $('div.input').hide();\n",
       " } else {\n",
       " $('div.input').show();\n",
       "  $('bdi').show();\n",
       "   $('.prompt').show();\n",
       " }\n",
       " show = !show\n",
       "} \n",
       "$( document ).ready(code_toggle);\n",
       "</script>\n",
       "<form action=\"javascript:code_toggle()\"><input type=\"submit\" value=\"Toggle code blocks.\"></form>"
      ],
      "text/plain": [
       "<IPython.core.display.HTML object>"
      ]
     },
     "execution_count": 77,
     "metadata": {},
     "output_type": "execute_result"
    }
   ],
   "source": [
    "from IPython.display import HTML\n",
    "\n",
    "HTML('''<script>\n",
    "show=true; \n",
    "function code_toggle() {\n",
    " if (show){\n",
    " $('div.input').hide();\n",
    " } else {\n",
    " $('div.input').show();\n",
    "  $('bdi').show();\n",
    "   $('.prompt').show();\n",
    " }\n",
    " show = !show\n",
    "} \n",
    "$( document ).ready(code_toggle);\n",
    "</script>\n",
    "<form action=\"javascript:code_toggle()\"><input type=\"submit\" value=\"Toggle code blocks.\"></form>''')"
   ]
  },
  {
   "cell_type": "code",
   "execution_count": null,
   "id": "56f5df93",
   "metadata": {},
   "outputs": [],
   "source": []
  }
 ],
 "metadata": {
  "kernelspec": {
   "display_name": "Python 3 (ipykernel)",
   "language": "python",
   "name": "python3"
  },
  "language_info": {
   "codemirror_mode": {
    "name": "ipython",
    "version": 3
   },
   "file_extension": ".py",
   "mimetype": "text/x-python",
   "name": "python",
   "nbconvert_exporter": "python",
   "pygments_lexer": "ipython3",
   "version": "3.10.4"
  }
 },
 "nbformat": 4,
 "nbformat_minor": 5
}
